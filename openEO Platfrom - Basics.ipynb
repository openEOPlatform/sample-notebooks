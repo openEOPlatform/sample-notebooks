{
 "cells": [
  {
   "cell_type": "markdown",
   "id": "51e0060f",
   "metadata": {},
   "source": [
    "# How to get started with openEO Platform: Basics\n",
    "**Connect to openEO Platform and print list of available collections**"
   ]
  },
  {
   "cell_type": "code",
   "execution_count": 1,
   "id": "17b10e91-823a-4833-9932-69801b525f7e",
   "metadata": {},
   "outputs": [],
   "source": [
    "import openeo\n",
    "connection = openeo.connect(\"openeo.cloud\")"
   ]
  },
  {
   "cell_type": "code",
   "execution_count": 2,
   "id": "e462769f-241e-4982-bce0-0da059e2ea1a",
   "metadata": {},
   "outputs": [
    {
     "name": "stdout",
     "output_type": "stream",
     "text": [
      "['SENTINEL1_GRD_SIGMA0', 'S1_GRD_SIGMA0_ASCENDING', 'S1_GRD_SIGMA0_DESCENDING', 'PROBAV_L3_S10_TOC_NDVI_333M', 'TERRASCOPE_S2_FAPAR_V2', 'TERRASCOPE_S2_NDVI_V2', 'TERRASCOPE_S2_LAI_V2', 'TERRASCOPE_S2_FCOVER_V2', 'TERRASCOPE_S2_TOC_V2', 'TERRASCOPE_S1_SLC_COHERENCE_V1', 'SENTINEL1_GAMMA0_SENTINELHUB', 'SENTINEL1_GRD', 'SENTINEL2_L1C_SENTINELHUB', 'SENTINEL2_L2A_SENTINELHUB', 'SENTINEL2_L2A_MOSAIC_120', 'PROBAV_L3_S10_TOC_333M', 'PROBAV_L3_S5_TOC_100M', 'TERRASCOPE_S5P_L3_NO2_TD_V1', 'TERRASCOPE_S5P_L3_NO2_TM_V1', 'TERRASCOPE_S5P_L3_NO2_TY_V1', 'TERRASCOPE_S5P_L3_CO_TD_V1', 'TERRASCOPE_S5P_L3_CO_TM_V1', 'TERRASCOPE_S5P_L3_CO_TY_V1', 'LANDSAT8-9_L1', 'LANDSAT8-9_L2', 'LANDSAT4-5_TM_L1', 'LANDSAT4-5_TM_L2', 'LANDSAT7_ETM_L1', 'LANDSAT7_ETM_L2', 'MODIS', 'SENTINEL3_OLCI_L1B', 'SENTINEL3_SLSTR', 'COPERNICUS_30', 'COPERNICUS_90', 'TERRASCOPE_S2_RHOW_V1', 'TERRASCOPE_S2_CHL_V1', 'TERRASCOPE_S2_SPM_V1', 'TERRASCOPE_S2_TUR_V1', 'ESA_WORLDCOVER_10M_2020_V1', 'ESA_WORLDCOVER_10M_2021_V2', 'CORINE_LAND_COVER', 'CORINE_LAND_COVER_ACCOUNTING_LAYERS', 'GHS_BUILT_S2', 'GLOBAL_LAND_COVER', 'GLOBAL_SURFACE_WATER', 'SEA_ICE_INDEX', 'SENTINEL_5P_L2', 'MAPZEN_DEM', 'LANDSAT1-5_MSS_L1', 'WATER_BODIES', 'SENTINEL1_CARD4L', 'VEGETATION_INDICES', 'SEASONAL_TRAJECTORIES', 'VEGETATION_PHENOLOGY_AND_PRODUCTIVITY_PARAMETERS_SEASON_1', 'VEGETATION_PHENOLOGY_AND_PRODUCTIVITY_PARAMETERS_SEASON_2', 'OPENEO_CROPTYPE_2021', 'EGM2008', 'CGLS_SSM_V1_EUROPE', 'CGLS_FAPAR_V2_GLOBAL', 'CGLS_LAI_V2_GLOBAL', 'CGLS_FCOVER_V2_GLOBAL', 'CGLS_LAI300_V1_GLOBAL', 'CGLS_NDVI300_V1_GLOBAL', 'CGLS_FCOVER300_V1_GLOBAL', 'CGLS_NDVI300_V2_GLOBAL', 'CGLS_NDVI_V3_GLOBAL', 'CGLS_NDVI_V2_GLOBAL', 'TERRASCOPE_S1_GAMMA0_V1', 'SENTINEL2_L1C_INCD', 'AGERA5', 'PLANETSCOPE', 'POPULATION_DENSITY', 'SENTINEL2_L1C', 'SENTINEL2_L2A', 'boa_sentinel_2', 'boa_landsat_8', 'gamma0_sentinel_1_dv', 'corine_land_cover', 'forest_type', 'tree_cover_density', 'SENTINEL1_SIGMA0_20M', 'CGLS_SSM_1KM', 'CDS_2M_TEMP_2020', 'ALOS_PALSAR2_RICE_PADDY_FIELD_MAP', 'ALOS_PALSAR2_AGRICULTURE', 'ALOS_PALSAR2_L2_1_3M', 'ALOS_PALSAR2_L2_1_10M', 'CAMS_GLC', 'CNR_CHL', 'CNES_LAND_COVER_MAP', 'SENTINEL_5P_CO_T3D_AVERAGE', 'E12C_MOTORWAY', 'E12D_PRIMARY', 'NASA_HARMONIZED_LANDSAT_SENTINEL', 'ICEYE_GRD_E11', 'ICEYE_GRD_E11A', 'ICEYE_GRD_E13B', 'ICEYE_GRD_E3', 'JAXA_WQ_CHLA_ANOMALY', 'JAXA_WQ_CHLA_AVERAGE', 'JAXA_WQ_TSM_ANOMALY', 'JAXA_WQ_TSM_AVERAGE', 'LTK_NATIONAL_HIGH_RESOLUTION_LAYER', 'SENTINEL_5P_CH4_T7D_AVERAGE', 'SENTINEL_5P_NO2_T14D_AVERAGE', 'CNR_TSM', 'EMODNET_VESSEL_DENSITY', 'EMODNET_VESSEL_DENSITY_CARGO', 'EMODNET_VESSEL_DENSITY_OTHER', 'EMODNET_VESSEL_DENSITY_TANKER', 'ERA5_WIND_U', 'ERA5_WIND_V', 'PLEIADES', 'SPOT', 'WORLDVIEW']\n"
     ]
    }
   ],
   "source": [
    "print(connection.list_collection_ids())"
   ]
  },
  {
   "cell_type": "markdown",
   "id": "ae534f82",
   "metadata": {},
   "source": [
    "**Print 1st collection from the list**"
   ]
  },
  {
   "cell_type": "code",
   "execution_count": 2,
   "id": "a84da605",
   "metadata": {},
   "outputs": [
    {
     "name": "stdout",
     "output_type": "stream",
     "text": [
      "{'description': 'Sentinel 1 GRD Sigma0, mosaic of all ascending relative orbits. Backscatter values are provided as natural number, not in decibel. Provided by Terrascope.\\n\\n Use [this viewer](https://viewer.terrascope.be/?language=en&bbox=2.8531494643539195,50.29627033037724,6.36877446435392,51.454777120718546&overlay=true&bgLayer=Satellite&date=2020-10-15&layer=CGS_S1_GRD_SIGMA0) to explore the data.', 'extent': {'spatial': {'bbox': [[-180, -56, 180, 83]]}, 'temporal': {'interval': [['2015-07-06T00:00:00Z', None]]}}, 'id': 'S1_GRD_SIGMA0_ASCENDING', 'keywords': ['VITO', 'TERRASCOPE', 'COPERNICUS', 'ESA', 'Orthoimagery', 'Sentinel-1', 'C-SAR', 'Level-3', 'Radar', 'Radar Backscatter'], 'license': 'free', 'links': [{'href': 'https://docs.terrascope.be/#/DataProducts/Sentinel-1/ProductsOverview', 'rel': 'alternate', 'title': 'Product web page.'}, {'href': 'https://services.terrascope.be/wmts/v2', 'rel': 'wmts', 'wmts:layer': 'CGS_S1_GRD_SIGMA0'}, {'href': 'https://openeocloud.vito.be/openeo/1.0.0/collections', 'rel': 'root'}, {'href': 'https://openeocloud.vito.be/openeo/1.0.0/collections', 'rel': 'parent'}, {'href': 'https://openeocloud.vito.be/openeo/1.0.0/collections/S1_GRD_SIGMA0_ASCENDING', 'rel': 'self'}], 'providers': [{'name': 'Terrascope/VITO'}], 'stac_extensions': ['datacube', 'https://stac-extensions.github.io/eo/v1.0.0/schema.json'], 'stac_version': '0.9.0', 'title': 'Sentinel 1 GRD Sigma0 product, VH, VV and angle.'}\n"
     ]
    }
   ],
   "source": [
    "print(connection.list_collections()[1])"
   ]
  },
  {
   "cell_type": "markdown",
   "id": "f96f1854",
   "metadata": {},
   "source": [
    "**Get detailed information about a collection**"
   ]
  },
  {
   "cell_type": "code",
   "execution_count": 3,
   "id": "c792bd6c",
   "metadata": {},
   "outputs": [
    {
     "data": {
      "text/html": [
       "\n",
       "    <script>\n",
       "    if (!window.customElements || !window.customElements.get('openeo-collection')) {\n",
       "        var el = document.createElement('script');\n",
       "        el.src = \"https://cdn.jsdelivr.net/npm/@openeo/vue-components@2/assets/openeo.min.js\";\n",
       "        document.head.appendChild(el);\n",
       "\n",
       "        var font = document.createElement('font');\n",
       "        font.as = \"font\";\n",
       "        font.type = \"font/woff2\";\n",
       "        font.crossOrigin = true;\n",
       "        font.href = \"https://use.fontawesome.com/releases/v5.13.0/webfonts/fa-solid-900.woff2\"\n",
       "        document.head.appendChild(font);\n",
       "    }\n",
       "    </script>\n",
       "    <openeo-collection>\n",
       "        <script type=\"application/json\">{\"mapOptions\": {}, \"data\": {\"assets\": {\"metadata_iso_19139\": {\"href\": \"https://services.terrascope.be/collectioncatalogue/srv/api/records/urn:eop:VITO:CGS_S1_GRD_SIGMA0_L1/formatters/xml?approved=true\", \"roles\": [\"metadata\", \"iso-19139\"], \"title\": \"ISO 19139 metadata\", \"type\": \"application/vnd.iso.19139+xml\"}, \"thumbnail\": {\"href\": \"https://services.terrascope.be/collectioncatalogue/images/quicklooks/SENTINEL1_GRD_QL.JPG\", \"roles\": [\"thumbnail\"], \"title\": \"Thumbnail\", \"type\": \"image/jpeg\"}}, \"cube:dimensions\": {\"bands\": {\"type\": \"bands\", \"values\": [\"VH\", \"VV\", \"angle\"]}, \"t\": {\"extent\": [\"2015-07-06T00:00:00Z\", null], \"type\": \"temporal\"}, \"x\": {\"axis\": \"x\", \"extent\": [-180, 180], \"reference_system\": {\"$schema\": \"https://proj.org/schemas/v0.2/projjson.schema.json\", \"area\": \"World\", \"bbox\": {\"east_longitude\": 180, \"north_latitude\": 90, \"south_latitude\": -90, \"west_longitude\": -180}, \"coordinate_system\": {\"axis\": [{\"abbreviation\": \"Lat\", \"direction\": \"north\", \"name\": \"Geodetic latitude\", \"unit\": \"degree\"}, {\"abbreviation\": \"Lon\", \"direction\": \"east\", \"name\": \"Geodetic longitude\", \"unit\": \"degree\"}], \"subtype\": \"ellipsoidal\"}, \"datum\": {\"ellipsoid\": {\"inverse_flattening\": 298.257223563, \"name\": \"WGS 84\", \"semi_major_axis\": 6378137}, \"name\": \"World Geodetic System 1984\", \"type\": \"GeodeticReferenceFrame\"}, \"id\": {\"authority\": \"OGC\", \"code\": \"Auto42001\", \"version\": \"1.3\"}, \"name\": \"AUTO 42001 (Universal Transverse Mercator)\", \"type\": \"GeodeticCRS\"}, \"type\": \"spatial\"}, \"y\": {\"axis\": \"y\", \"extent\": [-56, 83], \"reference_system\": {\"$schema\": \"https://proj.org/schemas/v0.2/projjson.schema.json\", \"area\": \"World\", \"bbox\": {\"east_longitude\": 180, \"north_latitude\": 90, \"south_latitude\": -90, \"west_longitude\": -180}, \"coordinate_system\": {\"axis\": [{\"abbreviation\": \"Lat\", \"direction\": \"north\", \"name\": \"Geodetic latitude\", \"unit\": \"degree\"}, {\"abbreviation\": \"Lon\", \"direction\": \"east\", \"name\": \"Geodetic longitude\", \"unit\": \"degree\"}], \"subtype\": \"ellipsoidal\"}, \"datum\": {\"ellipsoid\": {\"inverse_flattening\": 298.257223563, \"name\": \"WGS 84\", \"semi_major_axis\": 6378137}, \"name\": \"World Geodetic System 1984\", \"type\": \"GeodeticReferenceFrame\"}, \"id\": {\"authority\": \"OGC\", \"code\": \"Auto42001\", \"version\": \"1.3\"}, \"name\": \"AUTO 42001 (Universal Transverse Mercator)\", \"type\": \"GeodeticCRS\"}, \"type\": \"spatial\"}}, \"description\": \"Sentinel 1 GRD Sigma0, mosaic of all descending relative orbits. Backscatter values are provided as natural number, not in decibel. Provided by Terrascope.\\n\\n Use [this viewer](https://viewer.terrascope.be/?language=en&bbox=2.8531494643539195,50.29627033037724,6.36877446435392,51.454777120718546&overlay=true&bgLayer=Satellite&date=2020-10-15&layer=CGS_S1_GRD_SIGMA0) to explore the data.\", \"extent\": {\"spatial\": {\"bbox\": [[-180, -56, 180, 83]]}, \"temporal\": {\"interval\": [[\"2015-07-06T00:00:00Z\", null]]}}, \"id\": \"S1_GRD_SIGMA0_DESCENDING\", \"keywords\": [\"VITO\", \"TERRASCOPE\", \"COPERNICUS\", \"ESA\", \"Orthoimagery\", \"Sentinel-1\", \"C-SAR\", \"Level-3\", \"Radar\", \"Radar Backscatter\"], \"license\": \"free\", \"links\": [{\"href\": \"https://docs.terrascope.be/#/DataProducts/Sentinel-1/ProductsOverview\", \"rel\": \"alternate\", \"title\": \"Product web page.\"}, {\"href\": \"https://services.terrascope.be/wmts/v2\", \"rel\": \"wmts\", \"wmts:layer\": \"CGS_S1_GRD_SIGMA0\"}, {\"href\": \"https://openeocloud.vito.be/openeo/1.0.0/collections\", \"rel\": \"root\"}, {\"href\": \"https://openeocloud.vito.be/openeo/1.0.0/collections\", \"rel\": \"parent\"}, {\"href\": \"https://openeocloud.vito.be/openeo/1.0.0/collections/S1_GRD_SIGMA0_DESCENDING\", \"rel\": \"self\"}], \"providers\": [{\"name\": \"Terrascope/VITO\"}], \"stac_extensions\": [\"datacube\", \"https://stac-extensions.github.io/eo/v1.0.0/schema.json\"], \"stac_version\": \"0.9.0\", \"summaries\": {\"constellation\": [\"sentinel-1\"], \"eo:bands\": [{\"name\": \"VH\", \"type\": \"float\", \"unit\": \"1\"}, {\"name\": \"VV\", \"type\": \"float\", \"unit\": \"1\"}, {\"name\": \"angle\", \"type\": \"int16\", \"unit\": \"1\"}], \"federation:backends\": [\"vito\"], \"instruments\": [\"c-sar\"], \"platform\": [\"Sentinel-1\"], \"sar:center_frequency\": [5.405], \"sar:frequency_band\": [\"C\"], \"sar:instrument_mode\": [\"IW\"], \"sar:polarization\": [\"VV\", \"VH\"], \"sar:polarizations\": [\"VV\", \"VH\"], \"sar:product_type\": [\"GRD\"], \"sar:resolution\": [10], \"sat:orbit_state\": [\"ascending\", \"descending\"]}, \"title\": \"Sentinel 1 GRD Sigma0 product, VH, VV and angle.\"}}</script>\n",
       "    </openeo-collection>\n",
       "    "
      ],
      "text/plain": [
       "{'assets': {'metadata_iso_19139': {'href': 'https://services.terrascope.be/collectioncatalogue/srv/api/records/urn:eop:VITO:CGS_S1_GRD_SIGMA0_L1/formatters/xml?approved=true',\n",
       "   'roles': ['metadata', 'iso-19139'],\n",
       "   'title': 'ISO 19139 metadata',\n",
       "   'type': 'application/vnd.iso.19139+xml'},\n",
       "  'thumbnail': {'href': 'https://services.terrascope.be/collectioncatalogue/images/quicklooks/SENTINEL1_GRD_QL.JPG',\n",
       "   'roles': ['thumbnail'],\n",
       "   'title': 'Thumbnail',\n",
       "   'type': 'image/jpeg'}},\n",
       " 'cube:dimensions': {'bands': {'type': 'bands',\n",
       "   'values': ['VH', 'VV', 'angle']},\n",
       "  't': {'extent': ['2015-07-06T00:00:00Z', None], 'type': 'temporal'},\n",
       "  'x': {'axis': 'x',\n",
       "   'extent': [-180, 180],\n",
       "   'reference_system': {'$schema': 'https://proj.org/schemas/v0.2/projjson.schema.json',\n",
       "    'area': 'World',\n",
       "    'bbox': {'east_longitude': 180,\n",
       "     'north_latitude': 90,\n",
       "     'south_latitude': -90,\n",
       "     'west_longitude': -180},\n",
       "    'coordinate_system': {'axis': [{'abbreviation': 'Lat',\n",
       "       'direction': 'north',\n",
       "       'name': 'Geodetic latitude',\n",
       "       'unit': 'degree'},\n",
       "      {'abbreviation': 'Lon',\n",
       "       'direction': 'east',\n",
       "       'name': 'Geodetic longitude',\n",
       "       'unit': 'degree'}],\n",
       "     'subtype': 'ellipsoidal'},\n",
       "    'datum': {'ellipsoid': {'inverse_flattening': 298.257223563,\n",
       "      'name': 'WGS 84',\n",
       "      'semi_major_axis': 6378137},\n",
       "     'name': 'World Geodetic System 1984',\n",
       "     'type': 'GeodeticReferenceFrame'},\n",
       "    'id': {'authority': 'OGC', 'code': 'Auto42001', 'version': '1.3'},\n",
       "    'name': 'AUTO 42001 (Universal Transverse Mercator)',\n",
       "    'type': 'GeodeticCRS'},\n",
       "   'type': 'spatial'},\n",
       "  'y': {'axis': 'y',\n",
       "   'extent': [-56, 83],\n",
       "   'reference_system': {'$schema': 'https://proj.org/schemas/v0.2/projjson.schema.json',\n",
       "    'area': 'World',\n",
       "    'bbox': {'east_longitude': 180,\n",
       "     'north_latitude': 90,\n",
       "     'south_latitude': -90,\n",
       "     'west_longitude': -180},\n",
       "    'coordinate_system': {'axis': [{'abbreviation': 'Lat',\n",
       "       'direction': 'north',\n",
       "       'name': 'Geodetic latitude',\n",
       "       'unit': 'degree'},\n",
       "      {'abbreviation': 'Lon',\n",
       "       'direction': 'east',\n",
       "       'name': 'Geodetic longitude',\n",
       "       'unit': 'degree'}],\n",
       "     'subtype': 'ellipsoidal'},\n",
       "    'datum': {'ellipsoid': {'inverse_flattening': 298.257223563,\n",
       "      'name': 'WGS 84',\n",
       "      'semi_major_axis': 6378137},\n",
       "     'name': 'World Geodetic System 1984',\n",
       "     'type': 'GeodeticReferenceFrame'},\n",
       "    'id': {'authority': 'OGC', 'code': 'Auto42001', 'version': '1.3'},\n",
       "    'name': 'AUTO 42001 (Universal Transverse Mercator)',\n",
       "    'type': 'GeodeticCRS'},\n",
       "   'type': 'spatial'}},\n",
       " 'description': 'Sentinel 1 GRD Sigma0, mosaic of all descending relative orbits. Backscatter values are provided as natural number, not in decibel. Provided by Terrascope.\\n\\n Use [this viewer](https://viewer.terrascope.be/?language=en&bbox=2.8531494643539195,50.29627033037724,6.36877446435392,51.454777120718546&overlay=true&bgLayer=Satellite&date=2020-10-15&layer=CGS_S1_GRD_SIGMA0) to explore the data.',\n",
       " 'extent': {'spatial': {'bbox': [[-180, -56, 180, 83]]},\n",
       "  'temporal': {'interval': [['2015-07-06T00:00:00Z', None]]}},\n",
       " 'id': 'S1_GRD_SIGMA0_DESCENDING',\n",
       " 'keywords': ['VITO',\n",
       "  'TERRASCOPE',\n",
       "  'COPERNICUS',\n",
       "  'ESA',\n",
       "  'Orthoimagery',\n",
       "  'Sentinel-1',\n",
       "  'C-SAR',\n",
       "  'Level-3',\n",
       "  'Radar',\n",
       "  'Radar Backscatter'],\n",
       " 'license': 'free',\n",
       " 'links': [{'href': 'https://docs.terrascope.be/#/DataProducts/Sentinel-1/ProductsOverview',\n",
       "   'rel': 'alternate',\n",
       "   'title': 'Product web page.'},\n",
       "  {'href': 'https://services.terrascope.be/wmts/v2',\n",
       "   'rel': 'wmts',\n",
       "   'wmts:layer': 'CGS_S1_GRD_SIGMA0'},\n",
       "  {'href': 'https://openeocloud.vito.be/openeo/1.0.0/collections',\n",
       "   'rel': 'root'},\n",
       "  {'href': 'https://openeocloud.vito.be/openeo/1.0.0/collections',\n",
       "   'rel': 'parent'},\n",
       "  {'href': 'https://openeocloud.vito.be/openeo/1.0.0/collections/S1_GRD_SIGMA0_DESCENDING',\n",
       "   'rel': 'self'}],\n",
       " 'providers': [{'name': 'Terrascope/VITO'}],\n",
       " 'stac_extensions': ['datacube',\n",
       "  'https://stac-extensions.github.io/eo/v1.0.0/schema.json'],\n",
       " 'stac_version': '0.9.0',\n",
       " 'summaries': {'constellation': ['sentinel-1'],\n",
       "  'eo:bands': [{'name': 'VH', 'type': 'float', 'unit': '1'},\n",
       "   {'name': 'VV', 'type': 'float', 'unit': '1'},\n",
       "   {'name': 'angle', 'type': 'int16', 'unit': '1'}],\n",
       "  'federation:backends': ['vito'],\n",
       "  'instruments': ['c-sar'],\n",
       "  'platform': ['Sentinel-1'],\n",
       "  'sar:center_frequency': [5.405],\n",
       "  'sar:frequency_band': ['C'],\n",
       "  'sar:instrument_mode': ['IW'],\n",
       "  'sar:polarization': ['VV', 'VH'],\n",
       "  'sar:polarizations': ['VV', 'VH'],\n",
       "  'sar:product_type': ['GRD'],\n",
       "  'sar:resolution': [10],\n",
       "  'sat:orbit_state': ['ascending', 'descending']},\n",
       " 'title': 'Sentinel 1 GRD Sigma0 product, VH, VV and angle.'}"
      ]
     },
     "execution_count": 3,
     "metadata": {},
     "output_type": "execute_result"
    }
   ],
   "source": [
    "connection.describe_collection(\"S1_GRD_SIGMA0_DESCENDING\")"
   ]
  },
  {
   "cell_type": "markdown",
   "id": "4ba4c132",
   "metadata": {},
   "source": [
    "**Collection overview on docs.openeo.cloud**\n",
    "![collection_overview](images/collection_overview.png)"
   ]
  },
  {
   "cell_type": "markdown",
   "id": "3d5e8e63",
   "metadata": {},
   "source": [
    "**List processes that can be applied on the (EO) data**"
   ]
  },
  {
   "cell_type": "code",
   "execution_count": 4,
   "id": "d72fd27a",
   "metadata": {},
   "outputs": [
    {
     "name": "stdout",
     "output_type": "stream",
     "text": [
      "[{'categories': ['arrays'], 'deprecated': False, 'description': 'Applies a process to each individual value in the array. This is basically what other languages call either a `for each` loop or a `map` function.', 'examples': [], 'experimental': False, 'federation:backends': ['vito', 'eodc', 'sentinelhub'], 'id': 'array_apply', 'links': [{'href': 'https://processes.openeo.org/1.2.0/examples/array_find_nodata.json', 'rel': 'example', 'title': 'Find no-data values in arrays', 'type': 'application/json'}, {'href': 'https://processes.openeo.org/1.2.0/examples/array_contains_nodata.json', 'rel': 'example', 'title': 'Check for no-data values in arrays', 'type': 'application/json'}, {'href': 'https://processes.openeo.org/1.1.0/examples/array_find_nodata.json', 'rel': 'example', 'title': 'Find no-data values in arrays', 'type': 'application/json'}, {'href': 'https://processes.openeo.org/1.1.0/examples/array_contains_nodata.json', 'rel': 'example', 'title': 'Check for no-data values in arrays', 'type': 'application/json'}], 'parameters': [{'description': 'An array.', 'name': 'data', 'schema': {'items': {'description': 'Any data type is allowed.'}, 'type': 'array'}}, {'description': 'A process that accepts and returns a single value and is applied on each individual value in the array. The process may consist of multiple sub-processes and could, for example, consist of processes such as ``abs()`` or ``linear_scale_range()``.', 'name': 'process', 'schema': {'parameters': [{'description': 'The value of the current element being processed.', 'name': 'x', 'schema': {'description': 'Any data type.'}}, {'description': 'The zero-based index of the current element being processed.', 'name': 'index', 'schema': {'minimum': 0, 'type': 'integer'}}, {'default': None, 'description': 'The label of the current element being processed. Only populated for labeled arrays.', 'name': 'label', 'optional': True, 'schema': [{'type': 'number'}, {'type': 'string'}, {'type': 'null'}]}, {'default': None, 'description': 'Additional data passed by the user.', 'name': 'context', 'optional': True, 'schema': {'description': 'Any data type.'}}], 'returns': {'description': 'The value to be set in the new array.', 'schema': {'description': 'Any data type.'}}, 'subtype': 'process-graph', 'type': 'object'}}, {'default': None, 'description': 'Additional data to be passed to the process.', 'name': 'context', 'optional': True, 'schema': {'description': 'Any data type.'}}], 'returns': {'description': 'An array with the newly computed values. The number of elements are the same as for the original array.', 'schema': {'items': {'description': 'Any data type is allowed.'}, 'type': 'array'}}, 'summary': 'Apply a process to each array element'}, {'categories': ['math > trigonometric'], 'deprecated': False, 'description': 'Computes the arc cosine of `x`. The arc cosine is the inverse function of the cosine so that *`arccos(cos(x)) = x`*.\\n\\nWorks on radians only.\\nThe no-data value `null` is passed through and therefore gets propagated.', 'examples': [{'arguments': {'x': 1}, 'returns': 0}], 'experimental': False, 'federation:backends': ['vito', 'eodc', 'sentinelhub'], 'id': 'arccos', 'links': [{'href': 'http://mathworld.wolfram.com/InverseCosine.html', 'rel': 'about', 'title': 'Inverse cosine explained by Wolfram MathWorld'}], 'parameters': [{'description': 'A number.', 'name': 'x', 'schema': {'type': ['number', 'null']}}], 'returns': {'description': 'The computed angle in radians.', 'schema': {'type': ['number', 'null']}}, 'summary': 'Inverse cosine'}, {'categories': ['math > trigonometric'], 'deprecated': False, 'description': 'Computes the inverse hyperbolic cosine of `x`. It is the inverse function of the hyperbolic cosine so that *`arcosh(cosh(x)) = x`*.\\n\\nWorks on radians only.\\nThe no-data value `null` is passed through and therefore gets propagated.', 'examples': [{'arguments': {'x': 1}, 'returns': 0}], 'experimental': False, 'federation:backends': ['vito', 'eodc', 'sentinelhub'], 'id': 'arcosh', 'links': [{'href': 'http://mathworld.wolfram.com/InverseHyperbolicCosine.html', 'rel': 'about', 'title': 'Inverse hyperbolic cosine explained by Wolfram MathWorld'}], 'parameters': [{'description': 'A number.', 'name': 'x', 'schema': {'type': ['number', 'null']}}], 'returns': {'description': 'The computed angle in radians.', 'schema': {'type': ['number', 'null']}}, 'summary': 'Inverse hyperbolic cosine'}]\n"
     ]
    }
   ],
   "source": [
    "processes_list = (connection.list_processes())\n",
    "print(processes_list[:3])"
   ]
  },
  {
   "cell_type": "markdown",
   "id": "83a75cd2",
   "metadata": {},
   "source": [
    "**Inspect one process closer**"
   ]
  },
  {
   "cell_type": "code",
   "execution_count": 5,
   "id": "b3dfdb73",
   "metadata": {},
   "outputs": [
    {
     "name": "stdout",
     "output_type": "stream",
     "text": [
      "{'categories': ['math > trigonometric'], 'deprecated': False, 'description': 'Computes the arc cosine of `x`. The arc cosine is the inverse function of the cosine so that *`arccos(cos(x)) = x`*.\\n\\nWorks on radians only.\\nThe no-data value `null` is passed through and therefore gets propagated.', 'examples': [{'arguments': {'x': 1}, 'returns': 0}], 'experimental': False, 'federation:backends': ['vito', 'eodc', 'sentinelhub'], 'id': 'arccos', 'links': [{'href': 'http://mathworld.wolfram.com/InverseCosine.html', 'rel': 'about', 'title': 'Inverse cosine explained by Wolfram MathWorld'}], 'parameters': [{'description': 'A number.', 'name': 'x', 'schema': {'type': ['number', 'null']}}], 'returns': {'description': 'The computed angle in radians.', 'schema': {'type': ['number', 'null']}}, 'summary': 'Inverse cosine'}\n"
     ]
    }
   ],
   "source": [
    "print(processes_list[1])"
   ]
  },
  {
   "cell_type": "code",
   "execution_count": 6,
   "id": "8eaac9c7",
   "metadata": {},
   "outputs": [
    {
     "data": {
      "text/html": [
       "\n",
       "    <script>\n",
       "    if (!window.customElements || !window.customElements.get('openeo-process')) {\n",
       "        var el = document.createElement('script');\n",
       "        el.src = \"https://cdn.jsdelivr.net/npm/@openeo/vue-components@2/assets/openeo.min.js\";\n",
       "        document.head.appendChild(el);\n",
       "\n",
       "        var font = document.createElement('font');\n",
       "        font.as = \"font\";\n",
       "        font.type = \"font/woff2\";\n",
       "        font.crossOrigin = true;\n",
       "        font.href = \"https://use.fontawesome.com/releases/v5.13.0/webfonts/fa-solid-900.woff2\"\n",
       "        document.head.appendChild(font);\n",
       "    }\n",
       "    </script>\n",
       "    <openeo-process>\n",
       "        <script type=\"application/json\">{\"show-graph\": true, \"provide-download\": false, \"process\": {\"categories\": [\"math\"], \"deprecated\": false, \"description\": \"Sums up the two numbers `x` and `y` (*`x + y`*) and returns the computed sum.\\n\\nNo-data values are taken into account so that `null` is returned if any element is such a value.\\n\\nThe computations follow [IEEE Standard 754](https://ieeexplore.ieee.org/document/8766229) whenever the processing environment supports it.\", \"examples\": [{\"arguments\": {\"x\": 5, \"y\": 2.5}, \"returns\": 7.5}, {\"arguments\": {\"x\": -2, \"y\": -4}, \"returns\": -6}, {\"arguments\": {\"x\": 1, \"y\": null}, \"returns\": null}], \"experimental\": false, \"federation:backends\": [\"vito\", \"eodc\", \"sentinelhub\"], \"id\": \"add\", \"links\": [{\"href\": \"http://mathworld.wolfram.com/Sum.html\", \"rel\": \"about\", \"title\": \"Sum explained by Wolfram MathWorld\"}, {\"href\": \"https://ieeexplore.ieee.org/document/8766229\", \"rel\": \"about\", \"title\": \"IEEE Standard 754-2019 for Floating-Point Arithmetic\"}], \"parameters\": [{\"description\": \"The first summand.\", \"name\": \"x\", \"schema\": {\"type\": [\"number\", \"null\"]}}, {\"description\": \"The second summand.\", \"name\": \"y\", \"schema\": {\"type\": [\"number\", \"null\"]}}], \"returns\": {\"description\": \"The computed sum of the two numbers.\", \"schema\": {\"type\": [\"number\", \"null\"]}}, \"summary\": \"Addition of two numbers\"}}</script>\n",
       "    </openeo-process>\n",
       "    "
      ],
      "text/plain": [
       "{'categories': ['math'],\n",
       " 'deprecated': False,\n",
       " 'description': 'Sums up the two numbers `x` and `y` (*`x + y`*) and returns the computed sum.\\n\\nNo-data values are taken into account so that `null` is returned if any element is such a value.\\n\\nThe computations follow [IEEE Standard 754](https://ieeexplore.ieee.org/document/8766229) whenever the processing environment supports it.',\n",
       " 'examples': [{'arguments': {'x': 5, 'y': 2.5}, 'returns': 7.5},\n",
       "  {'arguments': {'x': -2, 'y': -4}, 'returns': -6},\n",
       "  {'arguments': {'x': 1, 'y': None}, 'returns': None}],\n",
       " 'experimental': False,\n",
       " 'federation:backends': ['vito', 'eodc', 'sentinelhub'],\n",
       " 'id': 'add',\n",
       " 'links': [{'href': 'http://mathworld.wolfram.com/Sum.html',\n",
       "   'rel': 'about',\n",
       "   'title': 'Sum explained by Wolfram MathWorld'},\n",
       "  {'href': 'https://ieeexplore.ieee.org/document/8766229',\n",
       "   'rel': 'about',\n",
       "   'title': 'IEEE Standard 754-2019 for Floating-Point Arithmetic'}],\n",
       " 'parameters': [{'description': 'The first summand.',\n",
       "   'name': 'x',\n",
       "   'schema': {'type': ['number', 'null']}},\n",
       "  {'description': 'The second summand.',\n",
       "   'name': 'y',\n",
       "   'schema': {'type': ['number', 'null']}}],\n",
       " 'returns': {'description': 'The computed sum of the two numbers.',\n",
       "  'schema': {'type': ['number', 'null']}},\n",
       " 'summary': 'Addition of two numbers'}"
      ]
     },
     "execution_count": 6,
     "metadata": {},
     "output_type": "execute_result"
    }
   ],
   "source": [
    "connection.describe_process(\"add\")"
   ]
  },
  {
   "cell_type": "markdown",
   "id": "6327e91c",
   "metadata": {},
   "source": [
    "**Process documentation on docs.openeo.cloud**\n",
    "![Processing description](images/processes_description.png)"
   ]
  },
  {
   "cell_type": "markdown",
   "id": "8e73df48",
   "metadata": {},
   "source": [
    "# Authentication\n",
    "**Refresh token to showcase autentication workflow**"
   ]
  },
  {
   "cell_type": "code",
   "execution_count": 6,
   "id": "cc4651e0",
   "metadata": {},
   "outputs": [],
   "source": [
    "from openeo.rest.auth.config import RefreshTokenStore\n",
    "RefreshTokenStore().remove()"
   ]
  },
  {
   "cell_type": "markdown",
   "id": "c53e42d5",
   "metadata": {},
   "source": [
    "**Autenticate via EGI**"
   ]
  },
  {
   "cell_type": "code",
   "execution_count": 7,
   "id": "d9d6f113",
   "metadata": {},
   "outputs": [
    {
     "name": "stdout",
     "output_type": "stream",
     "text": [
      "To authenticate: visit https://aai.egi.eu/device?user_code=BWUF-HJWW .\n",
      "Authorized successfully.\n"
     ]
    },
    {
     "data": {
      "text/plain": [
       "<Connection to 'https://openeocloud.vito.be/openeo/1.0.0/' with OidcBearerAuth>"
      ]
     },
     "execution_count": 7,
     "metadata": {},
     "output_type": "execute_result"
    }
   ],
   "source": [
    "connection.authenticate_oidc()"
   ]
  },
  {
   "cell_type": "code",
   "execution_count": 8,
   "id": "65e060c8",
   "metadata": {},
   "outputs": [
    {
     "data": {
      "text/plain": [
       "['EarlyAdopter']"
      ]
     },
     "execution_count": 8,
     "metadata": {},
     "output_type": "execute_result"
    }
   ],
   "source": [
    "connection.describe_account()[\"roles\"]"
   ]
  },
  {
   "cell_type": "markdown",
   "id": "f67fbb55",
   "metadata": {},
   "source": [
    "**Load collection in datacube**  \n",
    "Datacubes = multidimensional arrays with one or more spatial or temporal dimension(s)"
   ]
  },
  {
   "cell_type": "code",
   "execution_count": 9,
   "id": "20951953",
   "metadata": {},
   "outputs": [],
   "source": [
    "datacube = connection.load_collection(\n",
    "  \"SENTINEL1_GRD\",\n",
    "  spatial_extent={\"west\": 16.06, \"south\": 48.06, \"east\": 16.65, \"north\": 48.35},\n",
    "  temporal_extent=[\"2017-03-01\", \"2017-04-01\"],\n",
    "  bands=[\"VV\", \"VH\"]\n",
    ")"
   ]
  },
  {
   "cell_type": "markdown",
   "id": "657c2335",
   "metadata": {},
   "source": [
    "**Applying processes**\n",
    "Elimiate the time dimension for each pixel so we just have the minimum value of the corresponding timeseries (the original loaded datacube)"
   ]
  },
  {
   "cell_type": "code",
   "execution_count": 11,
   "id": "7734cc17",
   "metadata": {},
   "outputs": [],
   "source": [
    "datacube = datacube.min_time()"
   ]
  },
  {
   "cell_type": "markdown",
   "id": "a86f0dba",
   "metadata": {},
   "source": [
    "Now you can:\n",
    "- apply processes (modify the data)\n",
    "- visualize the data\n",
    "- save the data\n",
    "    "
   ]
  }
 ],
 "metadata": {
  "kernelspec": {
   "display_name": "Python 3 (ipykernel)",
   "language": "python",
   "name": "python3"
  },
  "language_info": {
   "codemirror_mode": {
    "name": "ipython",
    "version": 3
   },
   "file_extension": ".py",
   "mimetype": "text/x-python",
   "name": "python",
   "nbconvert_exporter": "python",
   "pygments_lexer": "ipython3",
   "version": "3.9.0"
  }
 },
 "nbformat": 4,
 "nbformat_minor": 5
}
