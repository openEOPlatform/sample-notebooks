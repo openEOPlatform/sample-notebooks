{
 "cells": [
  {
   "cell_type": "markdown",
   "id": "6af3ac5b",
   "metadata": {},
   "source": [
    "## Simple UDF sample\n",
    "\n",
    "This notebook shows how to apply [user defined functions](https://open-eo.github.io/openeo-python-client/udf.html).\n",
    "This is a powerfull concept that allows you to combine arbitrary Python code with your predefined openEO processes.\n",
    "\n",
    "We start by setting up a basic data cube:\n"
   ]
  },
  {
   "cell_type": "code",
   "execution_count": 1,
   "id": "636a8ddf",
   "metadata": {},
   "outputs": [
    {
     "name": "stdout",
     "output_type": "stream",
     "text": [
      "To authenticate: visit https://aai.egi.eu/oidc/device and enter the user code 'Ffu6O2'.\n",
      "Authorized successfully.\n",
      "Authenticated using device code flow.\n"
     ]
    }
   ],
   "source": [
    "import openeo\n",
    "\n",
    "\n",
    "# Create connection to openEO back-end\n",
    "connection = openeo.connect(\"openeo.cloud\").authenticate_oidc(\"egi-legacy\")\n",
    "\n",
    "\n",
    "# Load initial data cube.\n",
    "s2_cube = connection.load_collection(\n",
    "    \"SENTINEL2_L2A\",\n",
    "    spatial_extent={\"west\": 4.00, \"south\": 51.04, \"east\": 4.01, \"north\": 51.05},\n",
    "    temporal_extent=[\"2022-03-01\", \"2022-03-31\"],\n",
    "    bands=[\"B02\", \"B03\", \"B04\"]\n",
    ")\n"
   ]
  },
  {
   "cell_type": "markdown",
   "id": "fe1e0548",
   "metadata": {},
   "source": [
    "Now we load the UDF, it needs to be provided to the backend as plain text, so we store it in a separate file next to this notebook. This makes it easier to edit."
   ]
  },
  {
   "cell_type": "code",
   "execution_count": 16,
   "id": "1a10a25a",
   "metadata": {},
   "outputs": [],
   "source": [
    "from pathlib import Path\n",
    "udf_code = Path(\"simple_udf.py\").read_text(encoding=\"utf8\")"
   ]
  },
  {
   "cell_type": "markdown",
   "id": "7de9a83d",
   "metadata": {},
   "source": [
    "\n",
    "Now we want to apply the UDF to each pixel. To achieve this, we use a [simple callback](https://open-eo.github.io/openeo-python-client/processes.html#processes-with-child-callbacks)."
   ]
  },
  {
   "cell_type": "code",
   "execution_count": 18,
   "id": "463910f8",
   "metadata": {},
   "outputs": [],
   "source": [
    "scaling_process = lambda data: data.run_udf(udf = udf_code, runtime = 'Python')\n",
    "# Pass UDF object as child process to `apply`.\n",
    "rescaled = s2_cube.apply(scaling_process)\n",
    "rescaled.download(\"apply-udf-scaling.nc\")"
   ]
  }
 ],
 "metadata": {
  "kernelspec": {
   "display_name": "python36",
   "language": "python",
   "name": "python36"
  },
  "language_info": {
   "codemirror_mode": {
    "name": "ipython",
    "version": 3
   },
   "file_extension": ".py",
   "mimetype": "text/x-python",
   "name": "python",
   "nbconvert_exporter": "python",
   "pygments_lexer": "ipython3",
   "version": "3.6.8"
  }
 },
 "nbformat": 4,
 "nbformat_minor": 5
}
