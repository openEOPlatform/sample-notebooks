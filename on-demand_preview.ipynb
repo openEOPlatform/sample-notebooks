{
 "cells": [
  {
   "cell_type": "markdown",
   "id": "bb9f7d29",
   "metadata": {},
   "source": [
    "<img src=\"https://avatars.githubusercontent.com/u/74911464?s=200&v=4\"\n",
    "     alt=\"OpenEO Platform logo\"\n",
    "     style=\"float: left; margin-right: 10px;\" />\n",
    "# OpenEO Platform - On-demand preview\n",
    "### Create a simple process graph and show the results as on-demand preview directly in the notebook"
   ]
  },
  {
   "cell_type": "code",
   "execution_count": null,
   "id": "b387bc52",
   "metadata": {},
   "outputs": [],
   "source": [
    "# you need to have version 0.19.0 or higher installed to use the on-demand preview functionality\n",
    "import openeo"
   ]
  },
  {
   "cell_type": "markdown",
   "id": "d7043973",
   "metadata": {},
   "source": [
    "**1. Open the connect to openeo.cloud and authenticate**  \n",
    "- establish connection to openeo.cloud (=openEO Platform)\n",
    "- connection object is your central gateway to load data"
   ]
  },
  {
   "cell_type": "code",
   "execution_count": null,
   "id": "ac8937be",
   "metadata": {},
   "outputs": [],
   "source": [
    "# Connect to openEO Platform \n",
    "connection = openeo.connect(\"openeo.cloud\")\n",
    "\n",
    "# Authenticate via EGI\n",
    "connection.authenticate_oidc()"
   ]
  },
  {
   "cell_type": "markdown",
   "id": "684c5976",
   "metadata": {},
   "source": [
    "**2. Create a datacube that loads and saves Sentinel-2 data**  "
   ]
  },
  {
   "cell_type": "code",
   "execution_count": null,
   "id": "e0c8eeb8",
   "metadata": {},
   "outputs": [],
   "source": [
    "datacube = connection.load_collection(collection_id=\"SENTINEL2_L2A_SENTINELHUB\", bands=['B04','B03','B02'], spatial_extent={\n",
    "        \"west\": 6.8371137, \"south\": 50.560007,\n",
    "        \"east\": 6.8566699, \"north\": 50.5647147,\n",
    "        \"crs\": 4326\n",
    "    }, temporal_extent=[\"2022-10-08\",\"2022-10-11\"]).linear_scale_range(0,0.4,0,255)\n",
    "datacube = datacube.save_result(\"jpeg\")"
   ]
  },
  {
   "cell_type": "markdown",
   "id": "b131edc2",
   "metadata": {},
   "source": [
    "**3. Call the on-demand preview and display the response on a map**  "
   ]
  },
  {
   "cell_type": "code",
   "execution_count": null,
   "id": "5f21ad1a",
   "metadata": {
    "scrolled": true
   },
   "outputs": [],
   "source": [
    "### Call the secondary service and display the results on a map (displaying of results may take a couple of seconds)\n",
    "preview = datacube.preview()\n",
    "preview"
   ]
  },
  {
   "cell_type": "code",
   "execution_count": null,
   "id": "0dae69a8",
   "metadata": {},
   "outputs": [],
   "source": [
    "# Delet the created service once you are done inspecting the results (next cell needs to be uncommented for this)\n",
    "# preview.delete_service()"
   ]
  },
  {
   "cell_type": "code",
   "execution_count": null,
   "id": "4f22e33d",
   "metadata": {},
   "outputs": [],
   "source": []
  }
 ],
 "metadata": {
  "kernelspec": {
   "display_name": "Python 3 (ipykernel)",
   "language": "python",
   "name": "python3"
  },
  "language_info": {
   "codemirror_mode": {
    "name": "ipython",
    "version": 3
   },
   "file_extension": ".py",
   "mimetype": "text/x-python",
   "name": "python",
   "nbconvert_exporter": "python",
   "pygments_lexer": "ipython3",
   "version": "3.9.0"
  }
 },
 "nbformat": 4,
 "nbformat_minor": 5
}
