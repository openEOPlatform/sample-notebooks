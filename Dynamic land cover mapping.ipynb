{
 "cells": [
  {
   "cell_type": "markdown",
   "id": "5563cc52",
   "metadata": {},
   "source": [
    "## Dynamic Land Cover Mapping Service"
   ]
  },
  {
   "cell_type": "code",
   "execution_count": 32,
   "id": "e40d694e",
   "metadata": {},
   "outputs": [],
   "source": [
    "import openeo\n",
    "from openeo.extra.spectral_indices.spectral_indices import compute_and_rescale_indices\n",
    "from openeo.processes import if_, is_nodata, array_concat, array_create\n",
    "import geopandas as gpd\n",
    "import pandas as pd\n",
    "import json\n",
    "from pathlib import Path\n",
    "import datetime\n",
    "\n",
    "from sklearn.model_selection import train_test_split\n",
    "from sklearn.metrics import accuracy_score, precision_recall_fscore_support, ConfusionMatrixDisplay"
   ]
  },
  {
   "cell_type": "markdown",
   "id": "ff634edc",
   "metadata": {},
   "source": [
    "In this notebook we will be studying land cover mapping. Land cover mapping has been done since the onset of remote sensing, and LC products have been identified as a fundamental variable needed for studying the functional and morphological changes occurring in the Earth's ecosystems and the environment, and plays therefore an important role in studying climate change and carbon circulation (Congalton et al., 2014; Feddema et al., 2005; Sellers et al., 1997). In addition to that, it provides valuable information for policy development and a wide range of applications within natural sciences and life sciences, making it one of the most widely studied applications within remote sensing (Yu et al., 2014, Tucker et al., 1985; Running, 2008; Yang et al., 2013).\n",
    "\n",
    "With this variety in application fields comes a variety of user needs. Depending on the use case, there may be large differences in the target labels desired, the target year(s) requested, the output resolution needed, the featureset used, the stratification strategy employed, and more. The goal of this use case is to show that OpenEO as a platform can deal with this variability, and we will do so through creating a userfriendly interface in which the user can set a variety of parameters that will tailor the pipeline from -reference set & L2A+GRD > to model > to inference- to the users needs.\n",
    "\n",
    "To see the most basic version of the dynamic land cover service, you can check out [this Python notebook](https://github.com/openEOPlatform/SRR3_notebooks/blob/main/notebooks/Demo%20UC9.ipynb). If you'd like to have a look at some more advanced use cases, such as the use of stratification and the incorporation of extra datasets, have a look at [this Python notebook](https://github.com/openEOPlatform/SRR3_notebooks/blob/main/notebooks/Demo%20UC9%20with%20stratification.ipynb). This last notebook will show features that we will not show in this tutorial.\n",
    "\n",
    "In this notebook, helper functionality from [this repository](https://github.com/openEOPlatform/openeo-classification) is used. It contains amongst others the entire feature building engineering workflow, so if you are interested in knowing how to do that or if you want to make more customizations towards your own use case, have a look at it. Note that the repository is not finalized, as it is a general repository also used for other purposes."
   ]
  },
  {
   "cell_type": "markdown",
   "id": "c8d0aac6",
   "metadata": {},
   "source": [
    "![heelbelgie](https://user-images.githubusercontent.com/10434651/162210357-48389c4a-d58c-46da-972d-14f6ade2312e.png)"
   ]
  },
  {
   "cell_type": "markdown",
   "id": "42533c04",
   "metadata": {},
   "source": [
    "### Methodology"
   ]
  },
  {
   "cell_type": "markdown",
   "id": "ce99cb3f",
   "metadata": {},
   "source": [
    "#### Reference data\n",
    "The reference dataset used in this section is the Land Use/Cover Area frame Survey (LUCAS) Copernicus dataset of 2018. LUCAS is an evenly spaced in-situ land use and land cover ground survey exercise that extends over the entire of the European Union. The Copernicus module extends up to 51m in four cardinal directions to delineate polygons for each of these points. The final product contains about 60,000 polygons, from which subsequent points can be sampled (d'Andrimont et al., 2021). You as a user can specify how many points to sample from these polygons to train your model. In addition, the user can upload extra target data to improve performance.\n",
    "\n",
    "#### Input data\n",
    "The service created runs on features constructed from GRD sigma0 and L2A data. This data will be accessed through OpenEO platform from Terrascope and SentinelHub. You, as a user, can determine a time range, though the year should be kept to 2018, as that is the year in which the LUCAS Copernicus dataset was assembled. Data from other years can be extracted for prediction, provided that the user uploads their own reference set.\n",
    "\n",
    "#### Preprocessing\n",
    "The L2A data has been masked using the sen2cor sceneclassification, with a buffering approach developed at VITO and made available as a process called mask_scl_dilation. From the Sentinel-1 GRD collection, backscatter is calculated.\n",
    "\n",
    "\n",
    "#### Feature engineering\n",
    "We select and calculate the following products from our input collections:\n",
    "- 7 indices (NDVI, NDMI, NDGI, ANIR, NDRE1, NDRE2, NDRE5) and 2 bands (B06, B12) from the L2A collection\n",
    "- VV, VH and VV/VH (ratio) from the GRD sigma0 collection\n",
    "\n",
    "As you user you are however free to select other S2 indices; if you are interested in doing so, please refer to the [advanced notebook](https://github.com/openEOPlatform/SRR3_notebooks/blob/main/notebooks/Demo%20UC9%20with%20stratification.ipynb).\n",
    "\n",
    "All layers are rescaled to 0 to 30000 for computational efficiency. The indices/bands are then aggregated temporally (for Sentinel-2 data: 10-day window using the median. For Sentinel-1 data: 12 day window using the mean. The median was used for the S2 collection instead of the mean to prevent possible artifacts caused by cloud shadows). The output is then interpolated linearly and the S1 cube is resampled spatially to a 10m resolution. Finally, 10 features are calculated on each of the band dimensions. These 10 features are the standard deviation, 25th, 50th and 75th percentile, and 6 equidistant t-steps. Through this procedure, we end up with a total of 120 features (12 bands x 10 features).\n",
    "\n",
    "#### Model\n",
    "Where previously models had to be trained outside of openEO, we can now train Random Forest models in openEO itself. Hyperparameter tuning can be performed using a custom hyperparameter set. After training, the model is validated and used for prediction."
   ]
  },
  {
   "cell_type": "markdown",
   "id": "3cdbd7e9",
   "metadata": {},
   "source": [
    "### Implementation\n",
    "First, we load in a dataset with target labels. In order for the model to work, the target labels need to be integers. Also, we extract some target points from the target polygons."
   ]
  },
  {
   "cell_type": "code",
   "execution_count": 2,
   "id": "c1db8d91",
   "metadata": {},
   "outputs": [],
   "source": [
    "mask = box(4.4, 50.2, 5.6, 51.2)\n",
    "y = gpd.read_file(\"https://artifactory.vgt.vito.be/auxdata-public/openeo/LUCAS_2018_Copernicus.gpkg\",mask=mask)\n",
    "y[\"geometry\"] = y[\"geometry\"].apply(lambda x: x.centroid)\n",
    "y[\"LC1\"] = y[\"LC1\"].apply(lambda x: ord(x[0])-65)\n",
    "y_train, y_test = train_test_split(y, test_size=0.25, random_state=333)"
   ]
  },
  {
   "cell_type": "code",
   "execution_count": 3,
   "id": "48d73446",
   "metadata": {},
   "outputs": [
    {
     "data": {
      "text/html": [
       "<div>\n",
       "<style scoped>\n",
       "    .dataframe tbody tr th:only-of-type {\n",
       "        vertical-align: middle;\n",
       "    }\n",
       "\n",
       "    .dataframe tbody tr th {\n",
       "        vertical-align: top;\n",
       "    }\n",
       "\n",
       "    .dataframe thead th {\n",
       "        text-align: right;\n",
       "    }\n",
       "</style>\n",
       "<table border=\"1\" class=\"dataframe\">\n",
       "  <thead>\n",
       "    <tr style=\"text-align: right;\">\n",
       "      <th></th>\n",
       "      <th>target</th>\n",
       "      <th>geometry</th>\n",
       "    </tr>\n",
       "  </thead>\n",
       "  <tbody>\n",
       "    <tr>\n",
       "      <th>104</th>\n",
       "      <td>4</td>\n",
       "      <td>POINT (5.06096 50.65388)</td>\n",
       "    </tr>\n",
       "    <tr>\n",
       "      <th>150</th>\n",
       "      <td>4</td>\n",
       "      <td>POINT (5.10580 50.22320)</td>\n",
       "    </tr>\n",
       "    <tr>\n",
       "      <th>105</th>\n",
       "      <td>1</td>\n",
       "      <td>POINT (5.05520 50.70752)</td>\n",
       "    </tr>\n",
       "    <tr>\n",
       "      <th>201</th>\n",
       "      <td>4</td>\n",
       "      <td>POINT (5.31993 50.89871)</td>\n",
       "    </tr>\n",
       "    <tr>\n",
       "      <th>30</th>\n",
       "      <td>1</td>\n",
       "      <td>POINT (4.60356 51.17385)</td>\n",
       "    </tr>\n",
       "    <tr>\n",
       "      <th>...</th>\n",
       "      <td>...</td>\n",
       "      <td>...</td>\n",
       "    </tr>\n",
       "    <tr>\n",
       "      <th>110</th>\n",
       "      <td>5</td>\n",
       "      <td>POINT (5.11171 50.70987)</td>\n",
       "    </tr>\n",
       "    <tr>\n",
       "      <th>179</th>\n",
       "      <td>4</td>\n",
       "      <td>POINT (5.24289 51.09367)</td>\n",
       "    </tr>\n",
       "    <tr>\n",
       "      <th>163</th>\n",
       "      <td>1</td>\n",
       "      <td>POINT (5.23653 50.31891)</td>\n",
       "    </tr>\n",
       "    <tr>\n",
       "      <th>205</th>\n",
       "      <td>1</td>\n",
       "      <td>POINT (5.42265 50.72273)</td>\n",
       "    </tr>\n",
       "    <tr>\n",
       "      <th>12</th>\n",
       "      <td>4</td>\n",
       "      <td>POINT (4.43268 50.21048)</td>\n",
       "    </tr>\n",
       "  </tbody>\n",
       "</table>\n",
       "<p>165 rows × 2 columns</p>\n",
       "</div>"
      ],
      "text/plain": [
       "     target                  geometry\n",
       "104       4  POINT (5.06096 50.65388)\n",
       "150       4  POINT (5.10580 50.22320)\n",
       "105       1  POINT (5.05520 50.70752)\n",
       "201       4  POINT (5.31993 50.89871)\n",
       "30        1  POINT (4.60356 51.17385)\n",
       "..      ...                       ...\n",
       "110       5  POINT (5.11171 50.70987)\n",
       "179       4  POINT (5.24289 51.09367)\n",
       "163       1  POINT (5.23653 50.31891)\n",
       "205       1  POINT (5.42265 50.72273)\n",
       "12        4  POINT (4.43268 50.21048)\n",
       "\n",
       "[165 rows x 2 columns]"
      ]
     },
     "execution_count": 3,
     "metadata": {},
     "output_type": "execute_result"
    }
   ],
   "source": [
    "y_train[\"target\"] = y_train.LC1\n",
    "y_train = y_train[['target','geometry']]\n",
    "y_test[\"target\"] = y_test.LC1\n",
    "y_test = y_test[['target','geometry']]\n",
    "y_train"
   ]
  },
  {
   "cell_type": "code",
   "execution_count": 40,
   "id": "6490464f",
   "metadata": {},
   "outputs": [
    {
     "name": "stdout",
     "output_type": "stream",
     "text": [
      "Authenticated using refresh token.\n"
     ]
    },
    {
     "data": {
      "text/plain": [
       "<Connection to 'https://openeocloud.vito.be/openeo/1.0.0/' with OidcBearerAuth>"
      ]
     },
     "execution_count": 40,
     "metadata": {},
     "output_type": "execute_result"
    }
   ],
   "source": [
    "c = openeo.connect(\"openeo.cloud\")\n",
    "c.authenticate_oidc()"
   ]
  },
  {
   "cell_type": "markdown",
   "id": "c597df85",
   "metadata": {},
   "source": [
    "Next, we will create our featureset and use this featureset to train a model. The indices from which you calculate features can be adjusted by a parameter, but if you'd want you could even create the entire feature engineering pipeline yourself. If you are interested in knowing how to do so, you can dive a little bit deeper into the openEO code found [here](https://github.com/openEOPlatform/openeo-classification/blob/main/src/openeo_classification/features.py)."
   ]
  },
  {
   "cell_type": "code",
   "execution_count": null,
   "id": "86454dda",
   "metadata": {},
   "outputs": [],
   "source": [
    "def connection():\n",
    "    return c\n",
    "\n",
    "\n",
    "\n",
    "def sentinel2_composite(start_date, end_date, connection_provider, provider, index_dict=None, s2_list=[], processing_opts={}, sampling=False, stepsize=10, overlap=10, reducer=\"median\", luc=False,cloud_procedure=\"sen2cor\"):\n",
    "    \"\"\"\n",
    "    Compute a cloud-masked, gap-filled, Sentinel-2 datacube, composited at 10-daily intervals.\n",
    "    \"\"\"\n",
    "    temp_ext_s2 = [start_date.isoformat(), end_date.isoformat()]\n",
    "\n",
    "    props = {\n",
    "        \"eo:cloud_cover\": lambda v: v <= 80\n",
    "    }\n",
    "    \n",
    "    bands = [\"B03\",\"B04\",\"B05\",\"B06\",\"B07\",\"B08\",\"B11\",\"B12\",\"SCL\"]\n",
    "\n",
    "    c = connection_provider()\n",
    "    s2 = c.load_collection(\"SENTINEL2_L2A\",\n",
    "                           temporal_extent=temp_ext_s2,\n",
    "                           bands=bands,\n",
    "                           properties=props)\n",
    "\n",
    "    s2 = s2.process(\"mask_scl_dilation\", data=s2, scl_band_name=\"SCL\").filter_bands(s2.metadata.band_names[:-1])\n",
    "\n",
    "\n",
    "    indices = compute_and_rescale_indices(s2, index_dict, True).filter_bands(s2_list + list(index_dict[\"indices\"].keys()))\n",
    "    idx_dekad = indices.aggregate_temporal_period(\"dekad\",reducer=\"median\")\n",
    "\n",
    "    idx_dekad = idx_dekad.apply_dimension(dimension=\"t\", process=\"array_interpolate_linear\")    \n",
    "    return idx_dekad\n",
    "\n",
    "\n",
    "\n",
    "\n",
    "def sentinel1_composite(start_date, end_date, connection_provider = connection, provider = \"Terrascope\", processing_opts={}, relativeOrbit=None, orbitDirection = None, sampling=False, stepsize=12, overlap=6, reducer=\"mean\"):\n",
    "    c = connection_provider()\n",
    "    temp_ext_s1 = [start_date.isoformat(), end_date.isoformat()]\n",
    "    if (provider.upper() == \"TERRASCOPE\"):\n",
    "        s1_id = \"S1_GRD_SIGMA0_ASCENDING\"\n",
    "    else:\n",
    "        s1_id = \"SENTINEL1_GRD\"\n",
    "    properties = {}\n",
    "\n",
    "    if orbitDirection is not None:\n",
    "         properties[\"orbitDirection\"] = lambda p: p == orbitDirection\n",
    "\n",
    "    if provider.upper()==\"SENTINELHUB\":\n",
    "         properties[\"polarization\"] = lambda p: p == \"DV\"\n",
    "\n",
    "\n",
    "    s1 = c.load_collection(s1_id,\n",
    "                           temporal_extent=temp_ext_s1,\n",
    "                           bands=[\"VH\", \"VV\"],\n",
    "                           properties=properties\n",
    "                           )\n",
    "\n",
    "\n",
    "\n",
    "    if (provider.upper() != \"TERRASCOPE\"):        \n",
    "        s1 = s1.sar_backscatter(coefficient=\"sigma0-ellipsoid\")\n",
    "\n",
    "    # Observed Ranges:\n",
    "    # VV: 0 - 0.3 - Db: -20 .. 0\n",
    "    # VH: 0 - 0.3 - Db: -30 .. -5\n",
    "    # Ratio: 0- 1\n",
    "    #S1_GRD = S1_GRD.apply(lambda x: 10 * x.log(base=10))\n",
    "    s1 = s1.apply_dimension(dimension=\"bands\",\n",
    "                            process=lambda x:array_create([30.0 * x[0] / x[1],30.0+10.0 * x[0].log(base=10),30.0+10.0*x[1].log(base=10)]))\n",
    "    s1 = s1.rename_labels(\"bands\", [\"ratio\"] + s1.metadata.band_names)\n",
    "    # scale to int16\n",
    "    s1 = s1.linear_scale_range(0, 30, 0,30000)\n",
    "    s1_dekad = s1.aggregate_temporal_period(period=\"dekad\", reducer=\"median\")\n",
    "\n",
    "    s1_dekad = s1_dekad.apply_dimension(dimension=\"t\", process=\"array_interpolate_linear\")\n",
    "    return s1_dekad\n",
    "        \n",
    "def compute_statistics_fill_nan(base_features, start_date, end_date, stepsize):\n",
    "    \"\"\"\n",
    "    Computes statistics over a datacube.\n",
    "    For correct statistics, the datacube needs to be preprocessed to contain observation at equitemporal intervals, without nodata values.\n",
    "\n",
    "    \"\"\"\n",
    "    def computeStats(input_timeseries, sample_stepsize, offset):\n",
    "        tsteps = list([input_timeseries.array_element(offset + sample_stepsize * index) for index in range(0, 6)])\n",
    "        tsteps[1] = if_(is_nodata(tsteps[1]), tsteps[2], tsteps[1])\n",
    "        tsteps[4] = if_(is_nodata(tsteps[4]), tsteps[3], tsteps[4])\n",
    "        tsteps[0] = if_(is_nodata(tsteps[0]), tsteps[1], tsteps[0])\n",
    "        tsteps[5] = if_(is_nodata(tsteps[5]), tsteps[4], tsteps[5])\n",
    "        return array_concat(\n",
    "            array_concat(input_timeseries.quantiles(probabilities=[0.25, 0.5, 0.75]), input_timeseries.sd()), tsteps)\n",
    "\n",
    "    tot_samples = (end_date - start_date).days // stepsize\n",
    "    nr_tsteps = 6\n",
    "    sample_stepsize = tot_samples // nr_tsteps\n",
    "    offset = int(sample_stepsize/2 + (tot_samples%nr_tsteps)/2)\n",
    "\n",
    "    features = base_features.apply_dimension(dimension='t', target_dimension='bands', process=lambda x: computeStats(x, sample_stepsize, offset))\n",
    "    \n",
    "    tstep_labels = [\"t\" + str(offset + sample_stepsize * index) for index in range(0, 6)]\n",
    "    all_bands = [band + \"_\" + stat for band in base_features.metadata.band_names for stat in\n",
    "                 [\"p25\", \"p50\", \"p75\", \"sd\"] + tstep_labels]\n",
    "    features = features.rename_labels('bands', all_bands)\n",
    "    return features\n",
    "\n",
    "\n",
    "def load_lc_features(provider, feature_raster, start_date, end_date, stepsize_s2=10, stepsize_s1=12, processing_opts={}, index_dict=None,connection_provider = connection):\n",
    "\n",
    "    if not index_dict:\n",
    "        idx_list = [\"NDVI\", \"NDMI\", \"NDGI\", \"NDRE1\", \"NDRE2\", \"NDRE5\"]\n",
    "        s2_list = [\"B06\", \"B12\"]\n",
    "        index_dict = {idx: [-1,1] for idx in idx_list}\n",
    "        index_dict[\"ANIR\"] = [0,1]\n",
    "\n",
    "    final_index_dict = {\n",
    "        \"collection\": {\n",
    "            \"input_range\": [0, 8000],\n",
    "            \"output_range\": [0, 30000]\n",
    "        },\n",
    "        \"indices\": {\n",
    "            index: {\"input_range\": index_dict[index], \"output_range\": [0, 30000]} for index in index_dict\n",
    "        }\n",
    "    }\n",
    "\n",
    "    idx_dekad = sentinel2_composite(start_date, end_date, connection_provider, provider, final_index_dict, s2_list, processing_opts=processing_opts, sampling=True, stepsize=stepsize_s2, luc=True)\n",
    "    idx_features = compute_statistics_fill_nan(idx_dekad, start_date, end_date, stepsize=stepsize_s2)\n",
    "\n",
    "    s1_dekad = sentinel1_composite(start_date, end_date, connection_provider, provider, processing_opts=processing_opts, orbitDirection=\"ASCENDING\", sampling=True, stepsize=stepsize_s1)\n",
    "    s1_dekad = s1_dekad.resample_cube_spatial(idx_dekad)\n",
    "    s1_features = compute_statistics_fill_nan(s1_dekad, start_date, end_date, stepsize=stepsize_s1)\n",
    "\n",
    "    features = idx_features.merge_cubes(s1_features)\n",
    "    \n",
    "    return features, features.metadata.band_names"
   ]
  },
  {
   "cell_type": "code",
   "execution_count": 23,
   "id": "23d85e2c",
   "metadata": {},
   "outputs": [],
   "source": [
    "features, feature_list = load_lc_features(\"terrascope\", \"both\", datetime.date(2018, 3, 1), datetime.date(2018, 10, 31))\n",
    "X = features.aggregate_spatial(json.loads(y_train.to_json()), reducer=\"mean\")\n",
    "ml_model = X.fit_class_random_forest(target=json.loads(y_train.to_json()), num_trees=200)\n",
    "model = ml_model.save_ml_model()"
   ]
  },
  {
   "cell_type": "code",
   "execution_count": 38,
   "id": "c378cd16",
   "metadata": {},
   "outputs": [
    {
     "name": "stdout",
     "output_type": "stream",
     "text": [
      "0:00:00 Job 'j-447225d3eff64c4a85deb43e81b0dac0': send 'start'\n",
      "0:00:50 Job 'j-447225d3eff64c4a85deb43e81b0dac0': queued (progress N/A)\n",
      "0:00:55 Job 'j-447225d3eff64c4a85deb43e81b0dac0': queued (progress N/A)\n",
      "0:01:02 Job 'j-447225d3eff64c4a85deb43e81b0dac0': queued (progress N/A)\n",
      "0:01:10 Job 'j-447225d3eff64c4a85deb43e81b0dac0': queued (progress N/A)\n",
      "0:01:21 Job 'j-447225d3eff64c4a85deb43e81b0dac0': queued (progress N/A)\n",
      "0:01:33 Job 'j-447225d3eff64c4a85deb43e81b0dac0': queued (progress N/A)\n",
      "0:01:49 Job 'j-447225d3eff64c4a85deb43e81b0dac0': queued (progress N/A)\n",
      "0:02:09 Job 'j-447225d3eff64c4a85deb43e81b0dac0': queued (progress N/A)\n",
      "0:02:33 Job 'j-447225d3eff64c4a85deb43e81b0dac0': running (progress N/A)\n",
      "0:03:04 Job 'j-447225d3eff64c4a85deb43e81b0dac0': running (progress N/A)\n",
      "0:03:41 Job 'j-447225d3eff64c4a85deb43e81b0dac0': running (progress N/A)\n",
      "0:04:29 Job 'j-447225d3eff64c4a85deb43e81b0dac0': running (progress N/A)\n",
      "0:05:27 Job 'j-447225d3eff64c4a85deb43e81b0dac0': running (progress N/A)\n",
      "0:06:28 Job 'j-447225d3eff64c4a85deb43e81b0dac0': running (progress N/A)\n",
      "0:07:29 Job 'j-447225d3eff64c4a85deb43e81b0dac0': running (progress N/A)\n",
      "0:08:29 Job 'j-447225d3eff64c4a85deb43e81b0dac0': running (progress N/A)\n",
      "0:09:30 Job 'j-447225d3eff64c4a85deb43e81b0dac0': running (progress N/A)\n",
      "0:10:31 Job 'j-447225d3eff64c4a85deb43e81b0dac0': running (progress N/A)\n",
      "0:11:32 Job 'j-447225d3eff64c4a85deb43e81b0dac0': running (progress N/A)\n",
      "0:12:32 Job 'j-447225d3eff64c4a85deb43e81b0dac0': running (progress N/A)\n",
      "0:13:33 Job 'j-447225d3eff64c4a85deb43e81b0dac0': running (progress N/A)\n",
      "0:14:34 Job 'j-447225d3eff64c4a85deb43e81b0dac0': running (progress N/A)\n",
      "0:15:34 Job 'j-447225d3eff64c4a85deb43e81b0dac0': running (progress N/A)\n",
      "0:16:35 Job 'j-447225d3eff64c4a85deb43e81b0dac0': running (progress N/A)\n",
      "0:17:36 Job 'j-447225d3eff64c4a85deb43e81b0dac0': running (progress N/A)\n",
      "0:18:36 Job 'j-447225d3eff64c4a85deb43e81b0dac0': running (progress N/A)\n",
      "0:19:37 Job 'j-447225d3eff64c4a85deb43e81b0dac0': running (progress N/A)\n",
      "0:20:38 Job 'j-447225d3eff64c4a85deb43e81b0dac0': running (progress N/A)\n",
      "0:21:39 Job 'j-447225d3eff64c4a85deb43e81b0dac0': running (progress N/A)\n",
      "0:22:40 Job 'j-447225d3eff64c4a85deb43e81b0dac0': finished (progress N/A)\n"
     ]
    },
    {
     "data": {
      "text/html": [
       "\n",
       "    <script>\n",
       "    if (!window.customElements || !window.customElements.get('openeo-job')) {\n",
       "        var el = document.createElement('script');\n",
       "        el.src = \"https://cdn.jsdelivr.net/npm/@openeo/vue-components@2/assets/openeo.min.js\";\n",
       "        document.head.appendChild(el);\n",
       "\n",
       "        var font = document.createElement('font');\n",
       "        font.as = \"font\";\n",
       "        font.type = \"font/woff2\";\n",
       "        font.crossOrigin = true;\n",
       "        font.href = \"https://use.fontawesome.com/releases/v5.13.0/webfonts/fa-solid-900.woff2\"\n",
       "        document.head.appendChild(font);\n",
       "    }\n",
       "    </script>\n",
       "    <openeo-job>\n",
       "        <script type=\"application/json\">{\"currency\": null, \"job\": {\"created\": \"2022-09-02T17:49:39Z\", \"id\": \"j-447225d3eff64c4a85deb43e81b0dac0\", \"process\": {\"process_graph\": {\"aggregatespatial1\": {\"arguments\": {\"data\": {\"from_node\": \"mergecubes1\"}, \"geometries\": {\"features\": [{\"geometry\": {\"coordinates\": [5.060955528995019, 50.6538825532421], \"type\": \"Point\"}, \"id\": \"104\", \"properties\": {\"target\": 4}, \"type\": \"Feature\"}, {\"geometry\": {\"coordinates\": [5.105804067678971, 50.223203582213195], \"type\": \"Point\"}, \"id\": \"150\", \"properties\": {\"target\": 4}, \"type\": \"Feature\"}, {\"geometry\": {\"coordinates\": [5.05520200001659, 50.70751999630913], \"type\": \"Point\"}, \"id\": \"105\", \"properties\": {\"target\": 1}, \"type\": \"Feature\"}, {\"geometry\": {\"coordinates\": [5.319934232932153, 50.898705051393065], \"type\": \"Point\"}, \"id\": \"201\", \"properties\": {\"target\": 4}, \"type\": \"Feature\"}, {\"geometry\": {\"coordinates\": [4.6035580052418705, 51.17384697277629], \"type\": \"Point\"}, \"id\": \"30\", \"properties\": {\"target\": 1}, \"type\": \"Feature\"}, {\"geometry\": {\"coordinates\": [5.387565627567865, 50.50505162027526], \"type\": \"Point\"}, \"id\": \"170\", \"properties\": {\"target\": 1}, \"type\": \"Feature\"}, {\"geometry\": {\"coordinates\": [4.823977535199797, 50.22890836316605], \"type\": \"Point\"}, \"id\": \"64\", \"properties\": {\"target\": 1}, \"type\": \"Feature\"}, {\"geometry\": {\"coordinates\": [4.972898610277484, 50.415749584885454], \"type\": \"Point\"}, \"id\": \"70\", \"properties\": {\"target\": 4}, \"type\": \"Feature\"}, {\"geometry\": {\"coordinates\": [4.762376485506756, 50.53240550019264], \"type\": \"Point\"}, \"id\": \"57\", \"properties\": {\"target\": 1}, \"type\": \"Feature\"}, {\"geometry\": {\"coordinates\": [4.6470301557272276, 51.04970181530264], \"type\": \"Point\"}, \"id\": \"33\", \"properties\": {\"target\": 4}, \"type\": \"Feature\"}, {\"geometry\": {\"coordinates\": [5.006764052494317, 50.363178962731205], \"type\": \"Point\"}, \"id\": \"73\", \"properties\": {\"target\": 4}, \"type\": \"Feature\"}, {\"geometry\": {\"coordinates\": [5.040228380304511, 50.31076626382064], \"type\": \"Point\"}, \"id\": \"75\", \"properties\": {\"target\": 1}, \"type\": \"Feature\"}, {\"geometry\": {\"coordinates\": [5.191073382239181, 50.76722328725097], \"type\": \"Point\"}, \"id\": \"115\", \"properties\": {\"target\": 1}, \"type\": \"Feature\"}, {\"geometry\": {\"coordinates\": [5.499906000014902, 50.50965999626292], \"type\": \"Point\"}, \"id\": \"176\", \"properties\": {\"target\": 4}, \"type\": \"Feature\"}, {\"geometry\": {\"coordinates\": [4.760801702135789, 51.054836558449296], \"type\": \"Point\"}, \"id\": \"123\", \"properties\": {\"target\": 4}, \"type\": \"Feature\"}, {\"geometry\": {\"coordinates\": [5.491884620786379, 50.88758577368432], \"type\": \"Point\"}, \"id\": \"192\", \"properties\": {\"target\": 4}, \"type\": \"Feature\"}, {\"geometry\": {\"coordinates\": [4.5914144905312, 50.542394494823284], \"type\": \"Point\"}, \"id\": \"45\", \"properties\": {\"target\": 1}, \"type\": \"Feature\"}, {\"geometry\": {\"coordinates\": [5.438364144912699, 50.5613108345531], \"type\": \"Point\"}, \"id\": \"172\", \"properties\": {\"target\": 1}, \"type\": \"Feature\"}, {\"geometry\": {\"coordinates\": [4.72620245371852, 50.6028843494589], \"type\": \"Point\"}, \"id\": \"82\", \"properties\": {\"target\": 1}, \"type\": \"Feature\"}, {\"geometry\": {\"coordinates\": [4.41170337493074, 50.389694467010365], \"type\": \"Point\"}, \"id\": \"11\", \"properties\": {\"target\": 1}, \"type\": \"Feature\"}, {\"geometry\": {\"coordinates\": [4.9499020000167615, 50.63089999629191], \"type\": \"Point\"}, \"id\": \"85\", \"properties\": {\"target\": 1}, \"type\": \"Feature\"}, {\"geometry\": {\"coordinates\": [4.76235561562108, 50.280094540025466], \"type\": \"Point\"}, \"id\": \"56\", \"properties\": {\"target\": 4}, \"type\": \"Feature\"}, {\"geometry\": {\"coordinates\": [5.336051061370378, 50.73724600334351], \"type\": \"Point\"}, \"id\": \"203\", \"properties\": {\"target\": 1}, \"type\": \"Feature\"}, {\"geometry\": {\"coordinates\": [5.276589128510254, 50.48267115482712], \"type\": \"Point\"}, \"id\": \"165\", \"properties\": {\"target\": 4}, \"type\": \"Feature\"}, {\"geometry\": {\"coordinates\": [4.9023472168076125, 50.286500453958645], \"type\": \"Point\"}, \"id\": \"67\", \"properties\": {\"target\": 2}, \"type\": \"Feature\"}, {\"geometry\": {\"coordinates\": [5.0306396017737285, 50.670338137242325], \"type\": \"Point\"}, \"id\": \"100\", \"properties\": {\"target\": 1}, \"type\": \"Feature\"}, {\"geometry\": {\"coordinates\": [4.47193300001762, 50.356619996229256], \"type\": \"Point\"}, \"id\": \"18\", \"properties\": {\"target\": 2}, \"type\": \"Feature\"}, {\"geometry\": {\"coordinates\": [4.657960342307462, 50.455549366830326], \"type\": \"Point\"}, \"id\": \"50\", \"properties\": {\"target\": 1}, \"type\": \"Feature\"}, {\"geometry\": {\"coordinates\": [4.796907802971772, 50.732231550290024], \"type\": \"Point\"}, \"id\": \"93\", \"properties\": {\"target\": 4}, \"type\": \"Feature\"}, {\"geometry\": {\"coordinates\": [5.119175369933527, 50.367892827291236], \"type\": \"Point\"}, \"id\": \"152\", \"properties\": {\"target\": 1}, \"type\": \"Feature\"}, {\"geometry\": {\"coordinates\": [5.085221000015988, 50.420579996243006], \"type\": \"Point\"}, \"id\": \"148\", \"properties\": {\"target\": 1}, \"type\": \"Feature\"}, {\"geometry\": {\"coordinates\": [4.412366494369791, 50.62403113922951], \"type\": \"Point\"}, \"id\": \"0\", \"properties\": {\"target\": 1}, \"type\": \"Feature\"}, {\"geometry\": {\"coordinates\": [5.180619522059895, 50.31659504974517], \"type\": \"Point\"}, \"id\": \"156\", \"properties\": {\"target\": 4}, \"type\": \"Feature\"}, {\"geometry\": {\"coordinates\": [4.7586729983037035, 50.82054900941856], \"type\": \"Point\"}, \"id\": \"122\", \"properties\": {\"target\": 1}, \"type\": \"Feature\"}, {\"geometry\": {\"coordinates\": [5.324289675562232, 50.28654076101611], \"type\": \"Point\"}, \"id\": \"168\", \"properties\": {\"target\": 3}, \"type\": \"Feature\"}, {\"geometry\": {\"coordinates\": [4.594825086124498, 50.758913939672], \"type\": \"Point\"}, \"id\": \"8\", \"properties\": {\"target\": 4}, \"type\": \"Feature\"}, {\"geometry\": {\"coordinates\": [5.143865555272922, 50.94544230941432], \"type\": \"Point\"}, \"id\": \"144\", \"properties\": {\"target\": 1}, \"type\": \"Feature\"}, {\"geometry\": {\"coordinates\": [5.01442499548841, 50.29136469886369], \"type\": \"Point\"}, \"id\": \"74\", \"properties\": {\"target\": 4}, \"type\": \"Feature\"}, {\"geometry\": {\"coordinates\": [5.341405000015676, 50.68343999630311], \"type\": \"Point\"}, \"id\": \"204\", \"properties\": {\"target\": 1}, \"type\": \"Feature\"}, {\"geometry\": {\"coordinates\": [5.259586000015394, 50.37369999623167], \"type\": \"Point\"}, \"id\": \"164\", \"properties\": {\"target\": 1}, \"type\": \"Feature\"}, {\"geometry\": {\"coordinates\": [5.44735197968014, 50.759625918026956], \"type\": \"Point\"}, \"id\": \"207\", \"properties\": {\"target\": 1}, \"type\": \"Feature\"}, {\"geometry\": {\"coordinates\": [4.619833187979595, 50.29119166671532], \"type\": \"Point\"}, \"id\": \"48\", \"properties\": {\"target\": 4}, \"type\": \"Feature\"}, {\"geometry\": {\"coordinates\": [5.163061454394216, 51.036309427853226], \"type\": \"Point\"}, \"id\": \"146\", \"properties\": {\"target\": 4}, \"type\": \"Feature\"}, {\"geometry\": {\"coordinates\": [4.682314000016807, 50.24039999620129], \"type\": \"Point\"}, \"id\": \"51\", \"properties\": {\"target\": 1}, \"type\": \"Feature\"}, {\"geometry\": {\"coordinates\": [4.486745320814123, 50.952095839373726], \"type\": \"Point\"}, \"id\": \"24\", \"properties\": {\"target\": 3}, \"type\": \"Feature\"}, {\"geometry\": {\"coordinates\": [4.821595000017885, 51.02154999637969], \"type\": \"Point\"}, \"id\": \"130\", \"properties\": {\"target\": 2}, \"type\": \"Feature\"}, {\"geometry\": {\"coordinates\": [5.265874294773245, 51.14853830739466], \"type\": \"Point\"}, \"id\": \"180\", \"properties\": {\"target\": 1}, \"type\": \"Feature\"}, {\"geometry\": {\"coordinates\": [5.427913000015385, 50.66890999629962], \"type\": \"Point\"}, \"id\": \"206\", \"properties\": {\"target\": 1}, \"type\": \"Feature\"}, {\"geometry\": {\"coordinates\": [5.206951136125153, 50.335629907534724], \"type\": \"Point\"}, \"id\": \"158\", \"properties\": {\"target\": 1}, \"type\": \"Feature\"}, {\"geometry\": {\"coordinates\": [4.453548000018455, 50.752189996320496], \"type\": \"Point\"}, \"id\": \"4\", \"properties\": {\"target\": 2}, \"type\": \"Feature\"}, {\"geometry\": {\"coordinates\": [4.962675000016992, 50.775589996324705], \"type\": \"Point\"}, \"id\": \"98\", \"properties\": {\"target\": 1}, \"type\": \"Feature\"}, {\"geometry\": {\"coordinates\": [5.556326658787111, 51.10611027587575], \"type\": \"Point\"}, \"id\": \"218\", \"properties\": {\"target\": 4}, \"type\": \"Feature\"}, {\"geometry\": {\"coordinates\": [4.5185360000181305, 50.683219996304764], \"type\": \"Point\"}, \"id\": \"5\", \"properties\": {\"target\": 1}, \"type\": \"Feature\"}, {\"geometry\": {\"coordinates\": [5.051302487427666, 50.74344736241869], \"type\": \"Point\"}, \"id\": \"106\", \"properties\": {\"target\": 4}, \"type\": \"Feature\"}, {\"geometry\": {\"coordinates\": [4.448681000018072, 50.55370999627519], \"type\": \"Point\"}, \"id\": \"14\", \"properties\": {\"target\": 1}, \"type\": \"Feature\"}, {\"geometry\": {\"coordinates\": [4.68537907609066, 50.961395976382555], \"type\": \"Point\"}, \"id\": \"39\", \"properties\": {\"target\": 4}, \"type\": \"Feature\"}, {\"geometry\": {\"coordinates\": [4.76069186715328, 50.550357065017565], \"type\": \"Point\"}, \"id\": \"55\", \"properties\": {\"target\": 4}, \"type\": \"Feature\"}, {\"geometry\": {\"coordinates\": [4.990347000017411, 51.046999996384926], \"type\": \"Point\"}, \"id\": \"136\", \"properties\": {\"target\": 2}, \"type\": \"Feature\"}, {\"geometry\": {\"coordinates\": [5.0344930000165204, 50.634589996292576], \"type\": \"Point\"}, \"id\": \"99\", \"properties\": {\"target\": 1}, \"type\": \"Feature\"}, {\"geometry\": {\"coordinates\": [4.950649000016267, 50.360709996229176], \"type\": \"Point\"}, \"id\": \"69\", \"properties\": {\"target\": 4}, \"type\": \"Feature\"}, {\"geometry\": {\"coordinates\": [5.559833168633536, 51.07031654370466], \"type\": \"Point\"}, \"id\": \"219\", \"properties\": {\"target\": 1}, \"type\": \"Feature\"}, {\"geometry\": {\"coordinates\": [5.580439987905535, 50.85491906523114], \"type\": \"Point\"}, \"id\": \"215\", \"properties\": {\"target\": 5}, \"type\": \"Feature\"}, {\"geometry\": {\"coordinates\": [4.456973842743522, 50.482026229044585], \"type\": \"Point\"}, \"id\": \"17\", \"properties\": {\"target\": 1}, \"type\": \"Feature\"}, {\"geometry\": {\"coordinates\": [4.776666000017332, 50.65919999629865], \"type\": \"Point\"}, \"id\": \"87\", \"properties\": {\"target\": 4}, \"type\": \"Feature\"}, {\"geometry\": {\"coordinates\": [4.83168218394432, 50.93184707484333], \"type\": \"Point\"}, \"id\": \"131\", \"properties\": {\"target\": 4}, \"type\": \"Feature\"}, {\"geometry\": {\"coordinates\": [5.308982000016332, 51.0063099963754], \"type\": \"Point\"}, \"id\": \"183\", \"properties\": {\"target\": 2}, \"type\": \"Feature\"}, {\"geometry\": {\"coordinates\": [5.29975900001507, 50.24948999620225], \"type\": \"Point\"}, \"id\": \"166\", \"properties\": {\"target\": 4}, \"type\": \"Feature\"}, {\"geometry\": {\"coordinates\": [5.383745893870159, 51.11737876148348], \"type\": \"Point\"}, \"id\": \"187\", \"properties\": {\"target\": 1}, \"type\": \"Feature\"}, {\"geometry\": {\"coordinates\": [4.863279000017045, 50.64506999629531], \"type\": \"Point\"}, \"id\": \"86\", \"properties\": {\"target\": 1}, \"type\": \"Feature\"}, {\"geometry\": {\"coordinates\": [4.936345000017035, 50.75641999632043], \"type\": \"Point\"}, \"id\": \"95\", \"properties\": {\"target\": 1}, \"type\": \"Feature\"}, {\"geometry\": {\"coordinates\": [4.923689112043666, 50.34147917221155], \"type\": \"Point\"}, \"id\": \"68\", \"properties\": {\"target\": 4}, \"type\": \"Feature\"}, {\"geometry\": {\"coordinates\": [4.543544000017633, 50.468169996255185], \"type\": \"Point\"}, \"id\": \"42\", \"properties\": {\"target\": 1}, \"type\": \"Feature\"}, {\"geometry\": {\"coordinates\": [5.37317487160434, 50.3605237850458], \"type\": \"Point\"}, \"id\": \"169\", \"properties\": {\"target\": 1}, \"type\": \"Feature\"}, {\"geometry\": {\"coordinates\": [4.848984000016851, 50.51827999626614], \"type\": \"Point\"}, \"id\": \"65\", \"properties\": {\"target\": 1}, \"type\": \"Feature\"}, {\"geometry\": {\"coordinates\": [5.365764192900945, 51.00852565422877], \"type\": \"Point\"}, \"id\": \"186\", \"properties\": {\"target\": 2}, \"type\": \"Feature\"}, {\"geometry\": {\"coordinates\": [4.814819400983489, 50.5708555446297], \"type\": \"Point\"}, \"id\": \"78\", \"properties\": {\"target\": 1}, \"type\": \"Feature\"}, {\"geometry\": {\"coordinates\": [4.813174391740864, 50.84105949089144], \"type\": \"Point\"}, \"id\": \"129\", \"properties\": {\"target\": 1}, \"type\": \"Feature\"}, {\"geometry\": {\"coordinates\": [5.177591000016066, 50.622639996289514], \"type\": \"Point\"}, \"id\": \"111\", \"properties\": {\"target\": 1}, \"type\": \"Feature\"}, {\"geometry\": {\"coordinates\": [5.515062000015567, 50.94243999636086], \"type\": \"Point\"}, \"id\": \"193\", \"properties\": {\"target\": 2}, \"type\": \"Feature\"}, {\"geometry\": {\"coordinates\": [5.2338780000159, 50.62500999628999], \"type\": \"Point\"}, \"id\": \"196\", \"properties\": {\"target\": 1}, \"type\": \"Feature\"}, {\"geometry\": {\"coordinates\": [4.795084905326504, 51.002374726049865], \"type\": \"Point\"}, \"id\": \"125\", \"properties\": {\"target\": 4}, \"type\": \"Feature\"}, {\"geometry\": {\"coordinates\": [5.013470333900862, 50.83189050977748], \"type\": \"Point\"}, \"id\": \"102\", \"properties\": {\"target\": 1}, \"type\": \"Feature\"}, {\"geometry\": {\"coordinates\": [4.454329000017487, 50.26564999620778], \"type\": \"Point\"}, \"id\": \"16\", \"properties\": {\"target\": 1}, \"type\": \"Feature\"}, {\"geometry\": {\"coordinates\": [4.595688000017561, 50.506669996264044], \"type\": \"Point\"}, \"id\": \"47\", \"properties\": {\"target\": 1}, \"type\": \"Feature\"}, {\"geometry\": {\"coordinates\": [5.113568387921682, 50.96216913151553], \"type\": \"Point\"}, \"id\": \"141\", \"properties\": {\"target\": 4}, \"type\": \"Feature\"}, {\"geometry\": {\"coordinates\": [4.5735395454490195, 50.45168294029345], \"type\": \"Point\"}, \"id\": \"44\", \"properties\": {\"target\": 1}, \"type\": \"Feature\"}, {\"geometry\": {\"coordinates\": [5.22676448234596, 50.696786918021594], \"type\": \"Point\"}, \"id\": \"194\", \"properties\": {\"target\": 5}, \"type\": \"Feature\"}, {\"geometry\": {\"coordinates\": [4.8845952770600265, 50.97031690734699], \"type\": \"Point\"}, \"id\": \"132\", \"properties\": {\"target\": 1}, \"type\": \"Feature\"}, {\"geometry\": {\"coordinates\": [5.227509281068453, 50.408629703757015], \"type\": \"Point\"}, \"id\": \"161\", \"properties\": {\"target\": 4}, \"type\": \"Feature\"}, {\"geometry\": {\"coordinates\": [5.155071000016039, 50.567729996276945], \"type\": \"Point\"}, \"id\": \"155\", \"properties\": {\"target\": 1}, \"type\": \"Feature\"}, {\"geometry\": {\"coordinates\": [5.527067070874436, 50.22260615973987], \"type\": \"Point\"}, \"id\": \"177\", \"properties\": {\"target\": 4}, \"type\": \"Feature\"}, {\"geometry\": {\"coordinates\": [5.045787093324852, 50.797204253469936], \"type\": \"Point\"}, \"id\": \"107\", \"properties\": {\"target\": 1}, \"type\": \"Feature\"}, {\"geometry\": {\"coordinates\": [5.056849725411044, 50.9597919503503], \"type\": \"Point\"}, \"id\": \"139\", \"properties\": {\"target\": 1}, \"type\": \"Feature\"}, {\"geometry\": {\"coordinates\": [5.328869717858957, 50.80898029354661], \"type\": \"Point\"}, \"id\": \"202\", \"properties\": {\"target\": 2}, \"type\": \"Feature\"}, {\"geometry\": {\"coordinates\": [5.281402280495744, 50.71696127304115], \"type\": \"Point\"}, \"id\": \"199\", \"properties\": {\"target\": 1}, \"type\": \"Feature\"}, {\"geometry\": {\"coordinates\": [4.407749000018405, 50.65987999629963], \"type\": \"Point\"}, \"id\": \"1\", \"properties\": {\"target\": 1}, \"type\": \"Feature\"}, {\"geometry\": {\"coordinates\": [4.6477956306112596, 50.545141558321745], \"type\": \"Point\"}, \"id\": \"49\", \"properties\": {\"target\": 1}, \"type\": \"Feature\"}, {\"geometry\": {\"coordinates\": [4.70415400001733, 50.54777999627324], \"type\": \"Point\"}, \"id\": \"52\", \"properties\": {\"target\": 1}, \"type\": \"Feature\"}, {\"geometry\": {\"coordinates\": [5.449174000015438, 50.741789996316115], \"type\": \"Point\"}, \"id\": \"208\", \"properties\": {\"target\": 1}, \"type\": \"Feature\"}, {\"geometry\": {\"coordinates\": [4.794569433604081, 50.497827655899926], \"type\": \"Point\"}, \"id\": \"60\", \"properties\": {\"target\": 1}, \"type\": \"Feature\"}, {\"geometry\": {\"coordinates\": [5.2293470000155065, 50.39007999623558], \"type\": \"Point\"}, \"id\": \"162\", \"properties\": {\"target\": 4}, \"type\": \"Feature\"}, {\"geometry\": {\"coordinates\": [4.883624171125297, 50.71800802271193], \"type\": \"Point\"}, \"id\": \"91\", \"properties\": {\"target\": 2}, \"type\": \"Feature\"}, {\"geometry\": {\"coordinates\": [5.1319060000155385, 50.242459996200886], \"type\": \"Point\"}, \"id\": \"153\", \"properties\": {\"target\": 1}, \"type\": \"Feature\"}, {\"geometry\": {\"coordinates\": [4.752694000017329, 50.621949996290226], \"type\": \"Point\"}, \"id\": \"84\", \"properties\": {\"target\": 1}, \"type\": \"Feature\"}, {\"geometry\": {\"coordinates\": [4.742169531935979, 50.964041316287314], \"type\": \"Point\"}, \"id\": \"120\", \"properties\": {\"target\": 2}, \"type\": \"Feature\"}, {\"geometry\": {\"coordinates\": [4.399469161830443, 50.2630657579528], \"type\": \"Point\"}, \"id\": \"10\", \"properties\": {\"target\": 1}, \"type\": \"Feature\"}, {\"geometry\": {\"coordinates\": [5.260238102852807, 50.64407595007945], \"type\": \"Point\"}, \"id\": \"198\", \"properties\": {\"target\": 1}, \"type\": \"Feature\"}, {\"geometry\": {\"coordinates\": [5.2346848832503605, 50.895318636754716], \"type\": \"Point\"}, \"id\": \"178\", \"properties\": {\"target\": 2}, \"type\": \"Feature\"}, {\"geometry\": {\"coordinates\": [4.809091685188892, 50.87679337920994], \"type\": \"Point\"}, \"id\": \"128\", \"properties\": {\"target\": 1}, \"type\": \"Feature\"}, {\"geometry\": {\"coordinates\": [4.778383000016813, 50.3889999962362], \"type\": \"Point\"}, \"id\": \"59\", \"properties\": {\"target\": 1}, \"type\": \"Feature\"}, {\"geometry\": {\"coordinates\": [4.724301000016934, 50.3685199962315], \"type\": \"Point\"}, \"id\": \"53\", \"properties\": {\"target\": 1}, \"type\": \"Feature\"}, {\"geometry\": {\"coordinates\": [5.007856826005763, 50.88558266722583], \"type\": \"Point\"}, \"id\": \"103\", \"properties\": {\"target\": 2}, \"type\": \"Feature\"}, {\"geometry\": {\"coordinates\": [5.5555070000152345, 50.817959996333066], \"type\": \"Point\"}, \"id\": \"212\", \"properties\": {\"target\": 1}, \"type\": \"Feature\"}, {\"geometry\": {\"coordinates\": [4.4599344586720635, 50.69849986376156], \"type\": \"Point\"}, \"id\": \"3\", \"properties\": {\"target\": 2}, \"type\": \"Feature\"}, {\"geometry\": {\"coordinates\": [4.888243687013467, 50.93454099833704], \"type\": \"Point\"}, \"id\": \"133\", \"properties\": {\"target\": 2}, \"type\": \"Feature\"}, {\"geometry\": {\"coordinates\": [4.8496095220934325, 50.7706375902753], \"type\": \"Point\"}, \"id\": \"96\", \"properties\": {\"target\": 1}, \"type\": \"Feature\"}, {\"geometry\": {\"coordinates\": [4.82018500001647, 50.2648299962068], \"type\": \"Point\"}, \"id\": \"63\", \"properties\": {\"target\": 2}, \"type\": \"Feature\"}, {\"geometry\": {\"coordinates\": [5.209659733771575, 50.58799302868443], \"type\": \"Point\"}, \"id\": \"159\", \"properties\": {\"target\": 1}, \"type\": \"Feature\"}, {\"geometry\": {\"coordinates\": [4.443468000017698, 50.35604999622919], \"type\": \"Point\"}, \"id\": \"13\", \"properties\": {\"target\": 2}, \"type\": \"Feature\"}, {\"geometry\": {\"coordinates\": [5.173759000016148, 50.658519996297734], \"type\": \"Point\"}, \"id\": \"112\", \"properties\": {\"target\": 1}, \"type\": \"Feature\"}, {\"geometry\": {\"coordinates\": [4.643086953789038, 50.833122778625885], \"type\": \"Point\"}, \"id\": \"31\", \"properties\": {\"target\": 4}, \"type\": \"Feature\"}, {\"geometry\": {\"coordinates\": [4.560382852850046, 50.81136469085134], \"type\": \"Point\"}, \"id\": \"7\", \"properties\": {\"target\": 4}, \"type\": \"Feature\"}, {\"geometry\": {\"coordinates\": [4.872383919173652, 50.3031294275512], \"type\": \"Point\"}, \"id\": \"66\", \"properties\": {\"target\": 4}, \"type\": \"Feature\"}, {\"geometry\": {\"coordinates\": [4.68916075353518, 51.17768343069535], \"type\": \"Point\"}, \"id\": \"40\", \"properties\": {\"target\": 4}, \"type\": \"Feature\"}, {\"geometry\": {\"coordinates\": [5.488967425312014, 50.32913504483118], \"type\": \"Point\"}, \"id\": \"175\", \"properties\": {\"target\": 2}, \"type\": \"Feature\"}, {\"geometry\": {\"coordinates\": [4.784524181576315, 50.58760640247125], \"type\": \"Point\"}, \"id\": \"81\", \"properties\": {\"target\": 2}, \"type\": \"Feature\"}, {\"geometry\": {\"coordinates\": [4.466817343766036, 50.879066013765225], \"type\": \"Point\"}, \"id\": \"23\", \"properties\": {\"target\": 2}, \"type\": \"Feature\"}, {\"geometry\": {\"coordinates\": [4.74043395819228, 50.98192508933442], \"type\": \"Point\"}, \"id\": \"119\", \"properties\": {\"target\": 2}, \"type\": \"Feature\"}, {\"geometry\": {\"coordinates\": [4.655012131439374, 50.97807000772535], \"type\": \"Point\"}, \"id\": \"35\", \"properties\": {\"target\": 4}, \"type\": \"Feature\"}, {\"geometry\": {\"coordinates\": [5.153050152333209, 50.58565202585743], \"type\": \"Point\"}, \"id\": \"154\", \"properties\": {\"target\": 1}, \"type\": \"Feature\"}, {\"geometry\": {\"coordinates\": [5.583333225164757, 51.1251960980202], \"type\": \"Point\"}, \"id\": \"220\", \"properties\": {\"target\": 2}, \"type\": \"Feature\"}, {\"geometry\": {\"coordinates\": [5.529648000015765, 51.08705999639265], \"type\": \"Point\"}, \"id\": \"217\", \"properties\": {\"target\": 1}, \"type\": \"Feature\"}, {\"geometry\": {\"coordinates\": [5.360481000016272, 51.062419996387554], \"type\": \"Point\"}, \"id\": \"185\", \"properties\": {\"target\": 2}, \"type\": \"Feature\"}, {\"geometry\": {\"coordinates\": [5.1877895043456155, 50.24492586293439], \"type\": \"Point\"}, \"id\": \"157\", \"properties\": {\"target\": 1}, \"type\": \"Feature\"}, {\"geometry\": {\"coordinates\": [4.4872373698420205, 50.46554329790663], \"type\": \"Point\"}, \"id\": \"19\", \"properties\": {\"target\": 1}, \"type\": \"Feature\"}, {\"geometry\": {\"coordinates\": [4.867252000016972, 50.60921999628711], \"type\": \"Point\"}, \"id\": \"83\", \"properties\": {\"target\": 1}, \"type\": \"Feature\"}, {\"geometry\": {\"coordinates\": [4.857480857391053, 50.698875449536914], \"type\": \"Point\"}, \"id\": \"90\", \"properties\": {\"target\": 5}, \"type\": \"Feature\"}, {\"geometry\": {\"coordinates\": [5.472254000015457, 50.79670999632844], \"type\": \"Point\"}, \"id\": \"210\", \"properties\": {\"target\": 1}, \"type\": \"Feature\"}, {\"geometry\": {\"coordinates\": [5.230231000015973, 50.66087999629819], \"type\": \"Point\"}, \"id\": \"195\", \"properties\": {\"target\": 1}, \"type\": \"Feature\"}, {\"geometry\": {\"coordinates\": [4.988444487291608, 50.27219420235836], \"type\": \"Point\"}, \"id\": \"72\", \"properties\": {\"target\": 4}, \"type\": \"Feature\"}, {\"geometry\": {\"coordinates\": [5.026927000016668, 50.70631999630891], \"type\": \"Point\"}, \"id\": \"101\", \"properties\": {\"target\": 1}, \"type\": \"Feature\"}, {\"geometry\": {\"coordinates\": [4.669463157275686, 50.852461750119815], \"type\": \"Point\"}, \"id\": \"37\", \"properties\": {\"target\": 4}, \"type\": \"Feature\"}, {\"geometry\": {\"coordinates\": [4.790931945636508, 51.03811952134022], \"type\": \"Point\"}, \"id\": \"124\", \"properties\": {\"target\": 1}, \"type\": \"Feature\"}, {\"geometry\": {\"coordinates\": [5.064467000016886, 50.88806999634969], \"type\": \"Point\"}, \"id\": \"109\", \"properties\": {\"target\": 1}, \"type\": \"Feature\"}, {\"geometry\": {\"coordinates\": [4.803503443946757, 51.18288527248895], \"type\": \"Point\"}, \"id\": \"127\", \"properties\": {\"target\": 4}, \"type\": \"Feature\"}, {\"geometry\": {\"coordinates\": [5.4687625453123925, 50.832604945607535], \"type\": \"Point\"}, \"id\": \"209\", \"properties\": {\"target\": 1}, \"type\": \"Feature\"}, {\"geometry\": {\"coordinates\": [4.998149554072708, 50.975325120257764], \"type\": \"Point\"}, \"id\": \"137\", \"properties\": {\"target\": 1}, \"type\": \"Feature\"}, {\"geometry\": {\"coordinates\": [4.4886032173154735, 50.21295641153927], \"type\": \"Point\"}, \"id\": \"20\", \"properties\": {\"target\": 1}, \"type\": \"Feature\"}, {\"geometry\": {\"coordinates\": [5.077649407011518, 51.03267919176775], \"type\": \"Point\"}, \"id\": \"140\", \"properties\": {\"target\": 4}, \"type\": \"Feature\"}, {\"geometry\": {\"coordinates\": [4.818753564812162, 50.53499686568438], \"type\": \"Point\"}, \"id\": \"62\", \"properties\": {\"target\": 1}, \"type\": \"Feature\"}, {\"geometry\": {\"coordinates\": [5.179833000016506, 50.8748999963465], \"type\": \"Point\"}, \"id\": \"116\", \"properties\": {\"target\": 2}, \"type\": \"Feature\"}, {\"geometry\": {\"coordinates\": [4.523664140579645, 50.88165369671742], \"type\": \"Point\"}, \"id\": \"26\", \"properties\": {\"target\": 1}, \"type\": \"Feature\"}, {\"geometry\": {\"coordinates\": [4.744355000017011, 50.441489996248556], \"type\": \"Point\"}, \"id\": \"54\", \"properties\": {\"target\": 1}, \"type\": \"Feature\"}, {\"geometry\": {\"coordinates\": [5.115214799550751, 50.40389088072042], \"type\": \"Point\"}, \"id\": \"151\", \"properties\": {\"target\": 1}, \"type\": \"Feature\"}, {\"geometry\": {\"coordinates\": [4.975847606799105, 50.39794897024151], \"type\": \"Point\"}, \"id\": \"71\", \"properties\": {\"target\": 2}, \"type\": \"Feature\"}, {\"geometry\": {\"coordinates\": [4.602432000018394, 50.93946999636206], \"type\": \"Point\"}, \"id\": \"29\", \"properties\": {\"target\": 1}, \"type\": \"Feature\"}, {\"geometry\": {\"coordinates\": [5.504216515854877, 50.761959608852735], \"type\": \"Point\"}, \"id\": \"211\", \"properties\": {\"target\": 4}, \"type\": \"Feature\"}, {\"geometry\": {\"coordinates\": [5.399584909222584, 50.95601601555815], \"type\": \"Point\"}, \"id\": \"188\", \"properties\": {\"target\": 2}, \"type\": \"Feature\"}, {\"geometry\": {\"coordinates\": [4.592303293813307, 50.29026493379514], \"type\": \"Point\"}, \"id\": \"46\", \"properties\": {\"target\": 2}, \"type\": \"Feature\"}, {\"geometry\": {\"coordinates\": [4.734056006760561, 51.035590236036086], \"type\": \"Point\"}, \"id\": \"118\", \"properties\": {\"target\": 2}, \"type\": \"Feature\"}, {\"geometry\": {\"coordinates\": [5.111712753481107, 50.70986630846665], \"type\": \"Point\"}, \"id\": \"110\", \"properties\": {\"target\": 5}, \"type\": \"Feature\"}, {\"geometry\": {\"coordinates\": [5.242889000016696, 51.093669996394624], \"type\": \"Point\"}, \"id\": \"179\", \"properties\": {\"target\": 4}, \"type\": \"Feature\"}, {\"geometry\": {\"coordinates\": [5.236527862052969, 50.31891474189885], \"type\": \"Point\"}, \"id\": \"163\", \"properties\": {\"target\": 1}, \"type\": \"Feature\"}, {\"geometry\": {\"coordinates\": [5.422653000015493, 50.722729996311884], \"type\": \"Point\"}, \"id\": \"205\", \"properties\": {\"target\": 1}, \"type\": \"Feature\"}, {\"geometry\": {\"coordinates\": [4.432676709207567, 50.21047885955579], \"type\": \"Point\"}, \"id\": \"12\", \"properties\": {\"target\": 4}, \"type\": \"Feature\"}], \"type\": \"FeatureCollection\"}, \"reducer\": {\"process_graph\": {\"mean1\": {\"arguments\": {\"data\": {\"from_parameter\": \"data\"}}, \"process_id\": \"mean\", \"result\": true}}}}, \"process_id\": \"aggregate_spatial\"}, \"aggregatetemporalperiod1\": {\"arguments\": {\"data\": {\"from_node\": \"filterbands2\"}, \"period\": \"dekad\", \"reducer\": {\"process_graph\": {\"median1\": {\"arguments\": {\"data\": {\"from_parameter\": \"data\"}}, \"process_id\": \"median\", \"result\": true}}}}, \"process_id\": \"aggregate_temporal_period\"}, \"aggregatetemporalperiod2\": {\"arguments\": {\"data\": {\"from_node\": \"apply1\"}, \"period\": \"dekad\", \"reducer\": {\"process_graph\": {\"median2\": {\"arguments\": {\"data\": {\"from_parameter\": \"data\"}}, \"process_id\": \"median\", \"result\": true}}}}, \"process_id\": \"aggregate_temporal_period\"}, \"apply1\": {\"arguments\": {\"data\": {\"from_node\": \"renamelabels3\"}, \"process\": {\"process_graph\": {\"linearscalerange9\": {\"arguments\": {\"inputMax\": 30, \"inputMin\": 0, \"outputMax\": 30000, \"outputMin\": 0, \"x\": {\"from_parameter\": \"x\"}}, \"process_id\": \"linear_scale_range\", \"result\": true}}}}, \"process_id\": \"apply\"}, \"applydimension1\": {\"arguments\": {\"data\": {\"from_node\": \"filterbands1\"}, \"dimension\": \"bands\", \"process\": {\"process_graph\": {\"add1\": {\"arguments\": {\"x\": {\"from_node\": \"arrayelement1\"}, \"y\": {\"from_node\": \"arrayelement2\"}}, \"process_id\": \"add\"}, \"add10\": {\"arguments\": {\"x\": 0.8937811600000003, \"y\": {\"from_node\": \"power5\"}}, \"process_id\": \"add\"}, \"add11\": {\"arguments\": {\"x\": 0.028291240000000006, \"y\": {\"from_node\": \"power7\"}}, \"process_id\": \"add\"}, \"add12\": {\"arguments\": {\"x\": 0.6040398400000002, \"y\": {\"from_node\": \"power8\"}}, \"process_id\": \"add\"}, \"add2\": {\"arguments\": {\"x\": {\"from_node\": \"arrayelement1\"}, \"y\": {\"from_node\": \"arrayelement3\"}}, \"process_id\": \"add\"}, \"add3\": {\"arguments\": {\"x\": {\"from_node\": \"arrayelement4\"}, \"y\": {\"from_node\": \"arrayelement2\"}}, \"process_id\": \"add\"}, \"add4\": {\"arguments\": {\"x\": {\"from_node\": \"arrayelement1\"}, \"y\": {\"from_node\": \"arrayelement5\"}}, \"process_id\": \"add\"}, \"add5\": {\"arguments\": {\"x\": {\"from_node\": \"arrayelement1\"}, \"y\": {\"from_node\": \"arrayelement6\"}}, \"process_id\": \"add\"}, \"add6\": {\"arguments\": {\"x\": {\"from_node\": \"arrayelement7\"}, \"y\": {\"from_node\": \"arrayelement5\"}}, \"process_id\": \"add\"}, \"add7\": {\"arguments\": {\"x\": 0.028291240000000006, \"y\": {\"from_node\": \"power1\"}}, \"process_id\": \"add\"}, \"add8\": {\"arguments\": {\"x\": 0.6040398400000002, \"y\": {\"from_node\": \"power3\"}}, \"process_id\": \"add\"}, \"add9\": {\"arguments\": {\"x\": {\"from_node\": \"power2\"}, \"y\": {\"from_node\": \"power4\"}}, \"process_id\": \"add\"}, \"arccos1\": {\"arguments\": {\"x\": {\"from_node\": \"clip1\"}}, \"process_id\": \"arccos\"}, \"arrayelement1\": {\"arguments\": {\"data\": {\"from_parameter\": \"data\"}, \"index\": 5}, \"process_id\": \"array_element\"}, \"arrayelement2\": {\"arguments\": {\"data\": {\"from_parameter\": \"data\"}, \"index\": 1}, \"process_id\": \"array_element\"}, \"arrayelement3\": {\"arguments\": {\"data\": {\"from_parameter\": \"data\"}, \"index\": 6}, \"process_id\": \"array_element\"}, \"arrayelement4\": {\"arguments\": {\"data\": {\"from_parameter\": \"data\"}, \"index\": 0}, \"process_id\": \"array_element\"}, \"arrayelement5\": {\"arguments\": {\"data\": {\"from_parameter\": \"data\"}, \"index\": 2}, \"process_id\": \"array_element\"}, \"arrayelement6\": {\"arguments\": {\"data\": {\"from_parameter\": \"data\"}, \"index\": 3}, \"process_id\": \"array_element\"}, \"arrayelement7\": {\"arguments\": {\"data\": {\"from_parameter\": \"data\"}, \"index\": 4}, \"process_id\": \"array_element\"}, \"arraymodify1\": {\"arguments\": {\"data\": {\"from_node\": \"linearscalerange1\"}, \"index\": 8, \"values\": [{\"from_node\": \"linearscalerange2\"}, {\"from_node\": \"linearscalerange3\"}, {\"from_node\": \"linearscalerange4\"}, {\"from_node\": \"linearscalerange5\"}, {\"from_node\": \"linearscalerange6\"}, {\"from_node\": \"linearscalerange7\"}, {\"from_node\": \"linearscalerange8\"}]}, \"process_id\": \"array_modify\", \"result\": true}, \"clip1\": {\"arguments\": {\"max\": 1, \"min\": -1, \"x\": {\"from_node\": \"divide7\"}}, \"process_id\": \"clip\"}, \"divide1\": {\"arguments\": {\"x\": {\"from_node\": \"subtract1\"}, \"y\": {\"from_node\": \"add1\"}}, \"process_id\": \"divide\"}, \"divide2\": {\"arguments\": {\"x\": {\"from_node\": \"subtract2\"}, \"y\": {\"from_node\": \"add2\"}}, \"process_id\": \"divide\"}, \"divide3\": {\"arguments\": {\"x\": {\"from_node\": \"subtract3\"}, \"y\": {\"from_node\": \"add3\"}}, \"process_id\": \"divide\"}, \"divide4\": {\"arguments\": {\"x\": {\"from_node\": \"subtract4\"}, \"y\": {\"from_node\": \"add4\"}}, \"process_id\": \"divide\"}, \"divide5\": {\"arguments\": {\"x\": {\"from_node\": \"subtract5\"}, \"y\": {\"from_node\": \"add5\"}}, \"process_id\": \"divide\"}, \"divide6\": {\"arguments\": {\"x\": {\"from_node\": \"subtract6\"}, \"y\": {\"from_node\": \"add6\"}}, \"process_id\": \"divide\"}, \"divide7\": {\"arguments\": {\"x\": {\"from_node\": \"subtract10\"}, \"y\": {\"from_node\": \"multiply2\"}}, \"process_id\": \"divide\"}, \"linearscalerange1\": {\"arguments\": {\"inputMax\": 8000, \"inputMin\": 0, \"outputMax\": 30000, \"outputMin\": 0, \"x\": {\"from_parameter\": \"data\"}}, \"process_id\": \"linear_scale_range\"}, \"linearscalerange2\": {\"arguments\": {\"inputMax\": 1, \"inputMin\": -1, \"outputMax\": 30000, \"outputMin\": 0, \"x\": {\"from_node\": \"divide1\"}}, \"process_id\": \"linear_scale_range\"}, \"linearscalerange3\": {\"arguments\": {\"inputMax\": 1, \"inputMin\": -1, \"outputMax\": 30000, \"outputMin\": 0, \"x\": {\"from_node\": \"divide2\"}}, \"process_id\": \"linear_scale_range\"}, \"linearscalerange4\": {\"arguments\": {\"inputMax\": 1, \"inputMin\": -1, \"outputMax\": 30000, \"outputMin\": 0, \"x\": {\"from_node\": \"divide3\"}}, \"process_id\": \"linear_scale_range\"}, \"linearscalerange5\": {\"arguments\": {\"inputMax\": 1, \"inputMin\": -1, \"outputMax\": 30000, \"outputMin\": 0, \"x\": {\"from_node\": \"divide4\"}}, \"process_id\": \"linear_scale_range\"}, \"linearscalerange6\": {\"arguments\": {\"inputMax\": 1, \"inputMin\": -1, \"outputMax\": 30000, \"outputMin\": 0, \"x\": {\"from_node\": \"divide5\"}}, \"process_id\": \"linear_scale_range\"}, \"linearscalerange7\": {\"arguments\": {\"inputMax\": 1, \"inputMin\": -1, \"outputMax\": 30000, \"outputMin\": 0, \"x\": {\"from_node\": \"divide6\"}}, \"process_id\": \"linear_scale_range\"}, \"linearscalerange8\": {\"arguments\": {\"inputMax\": 1, \"inputMin\": 0, \"outputMax\": 30000, \"outputMin\": 0, \"x\": {\"from_node\": \"multiply3\"}}, \"process_id\": \"linear_scale_range\"}, \"multiply1\": {\"arguments\": {\"x\": 2, \"y\": {\"from_node\": \"sqrt4\"}}, \"process_id\": \"multiply\"}, \"multiply2\": {\"arguments\": {\"x\": {\"from_node\": \"multiply1\"}, \"y\": {\"from_node\": \"sqrt5\"}}, \"process_id\": \"multiply\"}, \"multiply3\": {\"arguments\": {\"x\": {\"from_node\": \"arccos1\"}, \"y\": 0.3183098861837907}, \"process_id\": \"multiply\"}, \"power1\": {\"arguments\": {\"base\": {\"from_node\": \"subtract7\"}, \"p\": 2}, \"process_id\": \"power\"}, \"power2\": {\"arguments\": {\"base\": {\"from_node\": \"sqrt1\"}, \"p\": 2}, \"process_id\": \"power\"}, \"power3\": {\"arguments\": {\"base\": {\"from_node\": \"subtract8\"}, \"p\": 2}, \"process_id\": \"power\"}, \"power4\": {\"arguments\": {\"base\": {\"from_node\": \"sqrt2\"}, \"p\": 2}, \"process_id\": \"power\"}, \"power5\": {\"arguments\": {\"base\": {\"from_node\": \"subtract9\"}, \"p\": 2}, \"process_id\": \"power\"}, \"power6\": {\"arguments\": {\"base\": {\"from_node\": \"sqrt3\"}, \"p\": 2}, \"process_id\": \"power\"}, \"power7\": {\"arguments\": {\"base\": {\"from_node\": \"subtract11\"}, \"p\": 2}, \"process_id\": \"power\"}, \"power8\": {\"arguments\": {\"base\": {\"from_node\": \"subtract12\"}, \"p\": 2}, \"process_id\": \"power\"}, \"sqrt1\": {\"arguments\": {\"x\": {\"from_node\": \"add7\"}}, \"process_id\": \"sqrt\"}, \"sqrt2\": {\"arguments\": {\"x\": {\"from_node\": \"add8\"}}, \"process_id\": \"sqrt\"}, \"sqrt3\": {\"arguments\": {\"x\": {\"from_node\": \"add10\"}}, \"process_id\": \"sqrt\"}, \"sqrt4\": {\"arguments\": {\"x\": {\"from_node\": \"add11\"}}, \"process_id\": \"sqrt\"}, \"sqrt5\": {\"arguments\": {\"x\": {\"from_node\": \"add12\"}}, \"process_id\": \"sqrt\"}, \"subtract1\": {\"arguments\": {\"x\": {\"from_node\": \"arrayelement1\"}, \"y\": {\"from_node\": \"arrayelement2\"}}, \"process_id\": \"subtract\"}, \"subtract10\": {\"arguments\": {\"x\": {\"from_node\": \"add9\"}, \"y\": {\"from_node\": \"power6\"}}, \"process_id\": \"subtract\"}, \"subtract11\": {\"arguments\": {\"x\": {\"from_node\": \"arrayelement1\"}, \"y\": {\"from_node\": \"arrayelement2\"}}, \"process_id\": \"subtract\"}, \"subtract12\": {\"arguments\": {\"x\": {\"from_node\": \"arrayelement3\"}, \"y\": {\"from_node\": \"arrayelement1\"}}, \"process_id\": \"subtract\"}, \"subtract2\": {\"arguments\": {\"x\": {\"from_node\": \"arrayelement1\"}, \"y\": {\"from_node\": \"arrayelement3\"}}, \"process_id\": \"subtract\"}, \"subtract3\": {\"arguments\": {\"x\": {\"from_node\": \"arrayelement4\"}, \"y\": {\"from_node\": \"arrayelement2\"}}, \"process_id\": \"subtract\"}, \"subtract4\": {\"arguments\": {\"x\": {\"from_node\": \"arrayelement1\"}, \"y\": {\"from_node\": \"arrayelement5\"}}, \"process_id\": \"subtract\"}, \"subtract5\": {\"arguments\": {\"x\": {\"from_node\": \"arrayelement1\"}, \"y\": {\"from_node\": \"arrayelement6\"}}, \"process_id\": \"subtract\"}, \"subtract6\": {\"arguments\": {\"x\": {\"from_node\": \"arrayelement7\"}, \"y\": {\"from_node\": \"arrayelement5\"}}, \"process_id\": \"subtract\"}, \"subtract7\": {\"arguments\": {\"x\": {\"from_node\": \"arrayelement1\"}, \"y\": {\"from_node\": \"arrayelement2\"}}, \"process_id\": \"subtract\"}, \"subtract8\": {\"arguments\": {\"x\": {\"from_node\": \"arrayelement3\"}, \"y\": {\"from_node\": \"arrayelement1\"}}, \"process_id\": \"subtract\"}, \"subtract9\": {\"arguments\": {\"x\": {\"from_node\": \"arrayelement3\"}, \"y\": {\"from_node\": \"arrayelement2\"}}, \"process_id\": \"subtract\"}}}}, \"process_id\": \"apply_dimension\"}, \"applydimension2\": {\"arguments\": {\"data\": {\"from_node\": \"aggregatetemporalperiod1\"}, \"dimension\": \"t\", \"process\": {\"process_graph\": {\"arrayinterpolatelinear1\": {\"arguments\": {\"data\": {\"from_parameter\": \"data\"}}, \"process_id\": \"array_interpolate_linear\", \"result\": true}}}}, \"process_id\": \"apply_dimension\"}, \"applydimension3\": {\"arguments\": {\"data\": {\"from_node\": \"applydimension2\"}, \"dimension\": \"t\", \"process\": {\"process_graph\": {\"arrayconcat1\": {\"arguments\": {\"array1\": {\"from_node\": \"quantiles1\"}, \"array2\": {\"from_node\": \"sd1\"}}, \"process_id\": \"array_concat\"}, \"arrayconcat2\": {\"arguments\": {\"array1\": {\"from_node\": \"arrayconcat1\"}, \"array2\": [{\"from_node\": \"if2\"}, {\"from_node\": \"if1\"}, {\"from_node\": \"arrayelement8\"}, {\"from_node\": \"arrayelement11\"}, {\"from_node\": \"if3\"}, {\"from_node\": \"if4\"}]}, \"process_id\": \"array_concat\", \"result\": true}, \"arrayelement10\": {\"arguments\": {\"data\": {\"from_parameter\": \"data\"}, \"index\": 2}, \"process_id\": \"array_element\"}, \"arrayelement11\": {\"arguments\": {\"data\": {\"from_parameter\": \"data\"}, \"index\": 14}, \"process_id\": \"array_element\"}, \"arrayelement12\": {\"arguments\": {\"data\": {\"from_parameter\": \"data\"}, \"index\": 18}, \"process_id\": \"array_element\"}, \"arrayelement13\": {\"arguments\": {\"data\": {\"from_parameter\": \"data\"}, \"index\": 22}, \"process_id\": \"array_element\"}, \"arrayelement8\": {\"arguments\": {\"data\": {\"from_parameter\": \"data\"}, \"index\": 10}, \"process_id\": \"array_element\"}, \"arrayelement9\": {\"arguments\": {\"data\": {\"from_parameter\": \"data\"}, \"index\": 6}, \"process_id\": \"array_element\"}, \"if1\": {\"arguments\": {\"accept\": {\"from_node\": \"arrayelement8\"}, \"reject\": {\"from_node\": \"arrayelement9\"}, \"value\": {\"from_node\": \"isnodata1\"}}, \"process_id\": \"if\"}, \"if2\": {\"arguments\": {\"accept\": {\"from_node\": \"if1\"}, \"reject\": {\"from_node\": \"arrayelement10\"}, \"value\": {\"from_node\": \"isnodata2\"}}, \"process_id\": \"if\"}, \"if3\": {\"arguments\": {\"accept\": {\"from_node\": \"arrayelement11\"}, \"reject\": {\"from_node\": \"arrayelement12\"}, \"value\": {\"from_node\": \"isnodata3\"}}, \"process_id\": \"if\"}, \"if4\": {\"arguments\": {\"accept\": {\"from_node\": \"if3\"}, \"reject\": {\"from_node\": \"arrayelement13\"}, \"value\": {\"from_node\": \"isnodata4\"}}, \"process_id\": \"if\"}, \"isnodata1\": {\"arguments\": {\"x\": {\"from_node\": \"arrayelement9\"}}, \"process_id\": \"is_nodata\"}, \"isnodata2\": {\"arguments\": {\"x\": {\"from_node\": \"arrayelement10\"}}, \"process_id\": \"is_nodata\"}, \"isnodata3\": {\"arguments\": {\"x\": {\"from_node\": \"arrayelement12\"}}, \"process_id\": \"is_nodata\"}, \"isnodata4\": {\"arguments\": {\"x\": {\"from_node\": \"arrayelement13\"}}, \"process_id\": \"is_nodata\"}, \"quantiles1\": {\"arguments\": {\"data\": {\"from_parameter\": \"data\"}, \"probabilities\": [0.25, 0.5, 0.75]}, \"process_id\": \"quantiles\"}, \"sd1\": {\"arguments\": {\"data\": {\"from_parameter\": \"data\"}}, \"process_id\": \"sd\"}}}, \"target_dimension\": \"bands\"}, \"process_id\": \"apply_dimension\"}, \"applydimension4\": {\"arguments\": {\"data\": {\"from_node\": \"loadcollection2\"}, \"dimension\": \"bands\", \"process\": {\"process_graph\": {\"add13\": {\"arguments\": {\"x\": 30.0, \"y\": {\"from_node\": \"multiply5\"}}, \"process_id\": \"add\"}, \"add14\": {\"arguments\": {\"x\": 30.0, \"y\": {\"from_node\": \"multiply6\"}}, \"process_id\": \"add\"}, \"arraycreate1\": {\"arguments\": {\"data\": [{\"from_node\": \"divide8\"}, {\"from_node\": \"add13\"}, {\"from_node\": \"add14\"}]}, \"process_id\": \"array_create\", \"result\": true}, \"arrayelement14\": {\"arguments\": {\"data\": {\"from_parameter\": \"data\"}, \"index\": 0}, \"process_id\": \"array_element\"}, \"arrayelement15\": {\"arguments\": {\"data\": {\"from_parameter\": \"data\"}, \"index\": 1}, \"process_id\": \"array_element\"}, \"arrayelement16\": {\"arguments\": {\"data\": {\"from_parameter\": \"data\"}, \"index\": 0}, \"process_id\": \"array_element\"}, \"arrayelement17\": {\"arguments\": {\"data\": {\"from_parameter\": \"data\"}, \"index\": 1}, \"process_id\": \"array_element\"}, \"divide8\": {\"arguments\": {\"x\": {\"from_node\": \"multiply4\"}, \"y\": {\"from_node\": \"arrayelement15\"}}, \"process_id\": \"divide\"}, \"log1\": {\"arguments\": {\"base\": 10, \"x\": {\"from_node\": \"arrayelement16\"}}, \"process_id\": \"log\"}, \"log2\": {\"arguments\": {\"base\": 10, \"x\": {\"from_node\": \"arrayelement17\"}}, \"process_id\": \"log\"}, \"multiply4\": {\"arguments\": {\"x\": 30.0, \"y\": {\"from_node\": \"arrayelement14\"}}, \"process_id\": \"multiply\"}, \"multiply5\": {\"arguments\": {\"x\": 10.0, \"y\": {\"from_node\": \"log1\"}}, \"process_id\": \"multiply\"}, \"multiply6\": {\"arguments\": {\"x\": 10.0, \"y\": {\"from_node\": \"log2\"}}, \"process_id\": \"multiply\"}}}}, \"process_id\": \"apply_dimension\"}, \"applydimension5\": {\"arguments\": {\"data\": {\"from_node\": \"aggregatetemporalperiod2\"}, \"dimension\": \"t\", \"process\": {\"process_graph\": {\"arrayinterpolatelinear2\": {\"arguments\": {\"data\": {\"from_parameter\": \"data\"}}, \"process_id\": \"array_interpolate_linear\", \"result\": true}}}}, \"process_id\": \"apply_dimension\"}, \"applydimension6\": {\"arguments\": {\"data\": {\"from_node\": \"resamplecubespatial1\"}, \"dimension\": \"t\", \"process\": {\"process_graph\": {\"arrayconcat3\": {\"arguments\": {\"array1\": {\"from_node\": \"quantiles2\"}, \"array2\": {\"from_node\": \"sd2\"}}, \"process_id\": \"array_concat\"}, \"arrayconcat4\": {\"arguments\": {\"array1\": {\"from_node\": \"arrayconcat3\"}, \"array2\": [{\"from_node\": \"if6\"}, {\"from_node\": \"if5\"}, {\"from_node\": \"arrayelement18\"}, {\"from_node\": \"arrayelement21\"}, {\"from_node\": \"if7\"}, {\"from_node\": \"if8\"}]}, \"process_id\": \"array_concat\", \"result\": true}, \"arrayelement18\": {\"arguments\": {\"data\": {\"from_parameter\": \"data\"}, \"index\": 8}, \"process_id\": \"array_element\"}, \"arrayelement19\": {\"arguments\": {\"data\": {\"from_parameter\": \"data\"}, \"index\": 5}, \"process_id\": \"array_element\"}, \"arrayelement20\": {\"arguments\": {\"data\": {\"from_parameter\": \"data\"}, \"index\": 2}, \"process_id\": \"array_element\"}, \"arrayelement21\": {\"arguments\": {\"data\": {\"from_parameter\": \"data\"}, \"index\": 11}, \"process_id\": \"array_element\"}, \"arrayelement22\": {\"arguments\": {\"data\": {\"from_parameter\": \"data\"}, \"index\": 14}, \"process_id\": \"array_element\"}, \"arrayelement23\": {\"arguments\": {\"data\": {\"from_parameter\": \"data\"}, \"index\": 17}, \"process_id\": \"array_element\"}, \"if5\": {\"arguments\": {\"accept\": {\"from_node\": \"arrayelement18\"}, \"reject\": {\"from_node\": \"arrayelement19\"}, \"value\": {\"from_node\": \"isnodata5\"}}, \"process_id\": \"if\"}, \"if6\": {\"arguments\": {\"accept\": {\"from_node\": \"if5\"}, \"reject\": {\"from_node\": \"arrayelement20\"}, \"value\": {\"from_node\": \"isnodata6\"}}, \"process_id\": \"if\"}, \"if7\": {\"arguments\": {\"accept\": {\"from_node\": \"arrayelement21\"}, \"reject\": {\"from_node\": \"arrayelement22\"}, \"value\": {\"from_node\": \"isnodata7\"}}, \"process_id\": \"if\"}, \"if8\": {\"arguments\": {\"accept\": {\"from_node\": \"if7\"}, \"reject\": {\"from_node\": \"arrayelement23\"}, \"value\": {\"from_node\": \"isnodata8\"}}, \"process_id\": \"if\"}, \"isnodata5\": {\"arguments\": {\"x\": {\"from_node\": \"arrayelement19\"}}, \"process_id\": \"is_nodata\"}, \"isnodata6\": {\"arguments\": {\"x\": {\"from_node\": \"arrayelement20\"}}, \"process_id\": \"is_nodata\"}, \"isnodata7\": {\"arguments\": {\"x\": {\"from_node\": \"arrayelement22\"}}, \"process_id\": \"is_nodata\"}, \"isnodata8\": {\"arguments\": {\"x\": {\"from_node\": \"arrayelement23\"}}, \"process_id\": \"is_nodata\"}, \"quantiles2\": {\"arguments\": {\"data\": {\"from_parameter\": \"data\"}, \"probabilities\": [0.25, 0.5, 0.75]}, \"process_id\": \"quantiles\"}, \"sd2\": {\"arguments\": {\"data\": {\"from_parameter\": \"data\"}}, \"process_id\": \"sd\"}}}, \"target_dimension\": \"bands\"}, \"process_id\": \"apply_dimension\"}, \"filterbands1\": {\"arguments\": {\"bands\": [\"B03\", \"B04\", \"B05\", \"B06\", \"B07\", \"B08\", \"B11\", \"B12\"], \"data\": {\"from_node\": \"maskscldilation1\"}}, \"process_id\": \"filter_bands\"}, \"filterbands2\": {\"arguments\": {\"bands\": [\"B06\", \"B12\", \"NDVI\", \"NDMI\", \"NDGI\", \"NDRE1\", \"NDRE2\", \"NDRE5\", \"ANIR\"], \"data\": {\"from_node\": \"renamelabels1\"}}, \"process_id\": \"filter_bands\"}, \"fitclassrandomforest1\": {\"arguments\": {\"num_trees\": 200, \"predictors\": {\"from_node\": \"aggregatespatial1\"}, \"target\": {\"features\": [{\"geometry\": {\"coordinates\": [5.060955528995019, 50.6538825532421], \"type\": \"Point\"}, \"id\": \"104\", \"properties\": {\"target\": 4}, \"type\": \"Feature\"}, {\"geometry\": {\"coordinates\": [5.105804067678971, 50.223203582213195], \"type\": \"Point\"}, \"id\": \"150\", \"properties\": {\"target\": 4}, \"type\": \"Feature\"}, {\"geometry\": {\"coordinates\": [5.05520200001659, 50.70751999630913], \"type\": \"Point\"}, \"id\": \"105\", \"properties\": {\"target\": 1}, \"type\": \"Feature\"}, {\"geometry\": {\"coordinates\": [5.319934232932153, 50.898705051393065], \"type\": \"Point\"}, \"id\": \"201\", \"properties\": {\"target\": 4}, \"type\": \"Feature\"}, {\"geometry\": {\"coordinates\": [4.6035580052418705, 51.17384697277629], \"type\": \"Point\"}, \"id\": \"30\", \"properties\": {\"target\": 1}, \"type\": \"Feature\"}, {\"geometry\": {\"coordinates\": [5.387565627567865, 50.50505162027526], \"type\": \"Point\"}, \"id\": \"170\", \"properties\": {\"target\": 1}, \"type\": \"Feature\"}, {\"geometry\": {\"coordinates\": [4.823977535199797, 50.22890836316605], \"type\": \"Point\"}, \"id\": \"64\", \"properties\": {\"target\": 1}, \"type\": \"Feature\"}, {\"geometry\": {\"coordinates\": [4.972898610277484, 50.415749584885454], \"type\": \"Point\"}, \"id\": \"70\", \"properties\": {\"target\": 4}, \"type\": \"Feature\"}, {\"geometry\": {\"coordinates\": [4.762376485506756, 50.53240550019264], \"type\": \"Point\"}, \"id\": \"57\", \"properties\": {\"target\": 1}, \"type\": \"Feature\"}, {\"geometry\": {\"coordinates\": [4.6470301557272276, 51.04970181530264], \"type\": \"Point\"}, \"id\": \"33\", \"properties\": {\"target\": 4}, \"type\": \"Feature\"}, {\"geometry\": {\"coordinates\": [5.006764052494317, 50.363178962731205], \"type\": \"Point\"}, \"id\": \"73\", \"properties\": {\"target\": 4}, \"type\": \"Feature\"}, {\"geometry\": {\"coordinates\": [5.040228380304511, 50.31076626382064], \"type\": \"Point\"}, \"id\": \"75\", \"properties\": {\"target\": 1}, \"type\": \"Feature\"}, {\"geometry\": {\"coordinates\": [5.191073382239181, 50.76722328725097], \"type\": \"Point\"}, \"id\": \"115\", \"properties\": {\"target\": 1}, \"type\": \"Feature\"}, {\"geometry\": {\"coordinates\": [5.499906000014902, 50.50965999626292], \"type\": \"Point\"}, \"id\": \"176\", \"properties\": {\"target\": 4}, \"type\": \"Feature\"}, {\"geometry\": {\"coordinates\": [4.760801702135789, 51.054836558449296], \"type\": \"Point\"}, \"id\": \"123\", \"properties\": {\"target\": 4}, \"type\": \"Feature\"}, {\"geometry\": {\"coordinates\": [5.491884620786379, 50.88758577368432], \"type\": \"Point\"}, \"id\": \"192\", \"properties\": {\"target\": 4}, \"type\": \"Feature\"}, {\"geometry\": {\"coordinates\": [4.5914144905312, 50.542394494823284], \"type\": \"Point\"}, \"id\": \"45\", \"properties\": {\"target\": 1}, \"type\": \"Feature\"}, {\"geometry\": {\"coordinates\": [5.438364144912699, 50.5613108345531], \"type\": \"Point\"}, \"id\": \"172\", \"properties\": {\"target\": 1}, \"type\": \"Feature\"}, {\"geometry\": {\"coordinates\": [4.72620245371852, 50.6028843494589], \"type\": \"Point\"}, \"id\": \"82\", \"properties\": {\"target\": 1}, \"type\": \"Feature\"}, {\"geometry\": {\"coordinates\": [4.41170337493074, 50.389694467010365], \"type\": \"Point\"}, \"id\": \"11\", \"properties\": {\"target\": 1}, \"type\": \"Feature\"}, {\"geometry\": {\"coordinates\": [4.9499020000167615, 50.63089999629191], \"type\": \"Point\"}, \"id\": \"85\", \"properties\": {\"target\": 1}, \"type\": \"Feature\"}, {\"geometry\": {\"coordinates\": [4.76235561562108, 50.280094540025466], \"type\": \"Point\"}, \"id\": \"56\", \"properties\": {\"target\": 4}, \"type\": \"Feature\"}, {\"geometry\": {\"coordinates\": [5.336051061370378, 50.73724600334351], \"type\": \"Point\"}, \"id\": \"203\", \"properties\": {\"target\": 1}, \"type\": \"Feature\"}, {\"geometry\": {\"coordinates\": [5.276589128510254, 50.48267115482712], \"type\": \"Point\"}, \"id\": \"165\", \"properties\": {\"target\": 4}, \"type\": \"Feature\"}, {\"geometry\": {\"coordinates\": [4.9023472168076125, 50.286500453958645], \"type\": \"Point\"}, \"id\": \"67\", \"properties\": {\"target\": 2}, \"type\": \"Feature\"}, {\"geometry\": {\"coordinates\": [5.0306396017737285, 50.670338137242325], \"type\": \"Point\"}, \"id\": \"100\", \"properties\": {\"target\": 1}, \"type\": \"Feature\"}, {\"geometry\": {\"coordinates\": [4.47193300001762, 50.356619996229256], \"type\": \"Point\"}, \"id\": \"18\", \"properties\": {\"target\": 2}, \"type\": \"Feature\"}, {\"geometry\": {\"coordinates\": [4.657960342307462, 50.455549366830326], \"type\": \"Point\"}, \"id\": \"50\", \"properties\": {\"target\": 1}, \"type\": \"Feature\"}, {\"geometry\": {\"coordinates\": [4.796907802971772, 50.732231550290024], \"type\": \"Point\"}, \"id\": \"93\", \"properties\": {\"target\": 4}, \"type\": \"Feature\"}, {\"geometry\": {\"coordinates\": [5.119175369933527, 50.367892827291236], \"type\": \"Point\"}, \"id\": \"152\", \"properties\": {\"target\": 1}, \"type\": \"Feature\"}, {\"geometry\": {\"coordinates\": [5.085221000015988, 50.420579996243006], \"type\": \"Point\"}, \"id\": \"148\", \"properties\": {\"target\": 1}, \"type\": \"Feature\"}, {\"geometry\": {\"coordinates\": [4.412366494369791, 50.62403113922951], \"type\": \"Point\"}, \"id\": \"0\", \"properties\": {\"target\": 1}, \"type\": \"Feature\"}, {\"geometry\": {\"coordinates\": [5.180619522059895, 50.31659504974517], \"type\": \"Point\"}, \"id\": \"156\", \"properties\": {\"target\": 4}, \"type\": \"Feature\"}, {\"geometry\": {\"coordinates\": [4.7586729983037035, 50.82054900941856], \"type\": \"Point\"}, \"id\": \"122\", \"properties\": {\"target\": 1}, \"type\": \"Feature\"}, {\"geometry\": {\"coordinates\": [5.324289675562232, 50.28654076101611], \"type\": \"Point\"}, \"id\": \"168\", \"properties\": {\"target\": 3}, \"type\": \"Feature\"}, {\"geometry\": {\"coordinates\": [4.594825086124498, 50.758913939672], \"type\": \"Point\"}, \"id\": \"8\", \"properties\": {\"target\": 4}, \"type\": \"Feature\"}, {\"geometry\": {\"coordinates\": [5.143865555272922, 50.94544230941432], \"type\": \"Point\"}, \"id\": \"144\", \"properties\": {\"target\": 1}, \"type\": \"Feature\"}, {\"geometry\": {\"coordinates\": [5.01442499548841, 50.29136469886369], \"type\": \"Point\"}, \"id\": \"74\", \"properties\": {\"target\": 4}, \"type\": \"Feature\"}, {\"geometry\": {\"coordinates\": [5.341405000015676, 50.68343999630311], \"type\": \"Point\"}, \"id\": \"204\", \"properties\": {\"target\": 1}, \"type\": \"Feature\"}, {\"geometry\": {\"coordinates\": [5.259586000015394, 50.37369999623167], \"type\": \"Point\"}, \"id\": \"164\", \"properties\": {\"target\": 1}, \"type\": \"Feature\"}, {\"geometry\": {\"coordinates\": [5.44735197968014, 50.759625918026956], \"type\": \"Point\"}, \"id\": \"207\", \"properties\": {\"target\": 1}, \"type\": \"Feature\"}, {\"geometry\": {\"coordinates\": [4.619833187979595, 50.29119166671532], \"type\": \"Point\"}, \"id\": \"48\", \"properties\": {\"target\": 4}, \"type\": \"Feature\"}, {\"geometry\": {\"coordinates\": [5.163061454394216, 51.036309427853226], \"type\": \"Point\"}, \"id\": \"146\", \"properties\": {\"target\": 4}, \"type\": \"Feature\"}, {\"geometry\": {\"coordinates\": [4.682314000016807, 50.24039999620129], \"type\": \"Point\"}, \"id\": \"51\", \"properties\": {\"target\": 1}, \"type\": \"Feature\"}, {\"geometry\": {\"coordinates\": [4.486745320814123, 50.952095839373726], \"type\": \"Point\"}, \"id\": \"24\", \"properties\": {\"target\": 3}, \"type\": \"Feature\"}, {\"geometry\": {\"coordinates\": [4.821595000017885, 51.02154999637969], \"type\": \"Point\"}, \"id\": \"130\", \"properties\": {\"target\": 2}, \"type\": \"Feature\"}, {\"geometry\": {\"coordinates\": [5.265874294773245, 51.14853830739466], \"type\": \"Point\"}, \"id\": \"180\", \"properties\": {\"target\": 1}, \"type\": \"Feature\"}, {\"geometry\": {\"coordinates\": [5.427913000015385, 50.66890999629962], \"type\": \"Point\"}, \"id\": \"206\", \"properties\": {\"target\": 1}, \"type\": \"Feature\"}, {\"geometry\": {\"coordinates\": [5.206951136125153, 50.335629907534724], \"type\": \"Point\"}, \"id\": \"158\", \"properties\": {\"target\": 1}, \"type\": \"Feature\"}, {\"geometry\": {\"coordinates\": [4.453548000018455, 50.752189996320496], \"type\": \"Point\"}, \"id\": \"4\", \"properties\": {\"target\": 2}, \"type\": \"Feature\"}, {\"geometry\": {\"coordinates\": [4.962675000016992, 50.775589996324705], \"type\": \"Point\"}, \"id\": \"98\", \"properties\": {\"target\": 1}, \"type\": \"Feature\"}, {\"geometry\": {\"coordinates\": [5.556326658787111, 51.10611027587575], \"type\": \"Point\"}, \"id\": \"218\", \"properties\": {\"target\": 4}, \"type\": \"Feature\"}, {\"geometry\": {\"coordinates\": [4.5185360000181305, 50.683219996304764], \"type\": \"Point\"}, \"id\": \"5\", \"properties\": {\"target\": 1}, \"type\": \"Feature\"}, {\"geometry\": {\"coordinates\": [5.051302487427666, 50.74344736241869], \"type\": \"Point\"}, \"id\": \"106\", \"properties\": {\"target\": 4}, \"type\": \"Feature\"}, {\"geometry\": {\"coordinates\": [4.448681000018072, 50.55370999627519], \"type\": \"Point\"}, \"id\": \"14\", \"properties\": {\"target\": 1}, \"type\": \"Feature\"}, {\"geometry\": {\"coordinates\": [4.68537907609066, 50.961395976382555], \"type\": \"Point\"}, \"id\": \"39\", \"properties\": {\"target\": 4}, \"type\": \"Feature\"}, {\"geometry\": {\"coordinates\": [4.76069186715328, 50.550357065017565], \"type\": \"Point\"}, \"id\": \"55\", \"properties\": {\"target\": 4}, \"type\": \"Feature\"}, {\"geometry\": {\"coordinates\": [4.990347000017411, 51.046999996384926], \"type\": \"Point\"}, \"id\": \"136\", \"properties\": {\"target\": 2}, \"type\": \"Feature\"}, {\"geometry\": {\"coordinates\": [5.0344930000165204, 50.634589996292576], \"type\": \"Point\"}, \"id\": \"99\", \"properties\": {\"target\": 1}, \"type\": \"Feature\"}, {\"geometry\": {\"coordinates\": [4.950649000016267, 50.360709996229176], \"type\": \"Point\"}, \"id\": \"69\", \"properties\": {\"target\": 4}, \"type\": \"Feature\"}, {\"geometry\": {\"coordinates\": [5.559833168633536, 51.07031654370466], \"type\": \"Point\"}, \"id\": \"219\", \"properties\": {\"target\": 1}, \"type\": \"Feature\"}, {\"geometry\": {\"coordinates\": [5.580439987905535, 50.85491906523114], \"type\": \"Point\"}, \"id\": \"215\", \"properties\": {\"target\": 5}, \"type\": \"Feature\"}, {\"geometry\": {\"coordinates\": [4.456973842743522, 50.482026229044585], \"type\": \"Point\"}, \"id\": \"17\", \"properties\": {\"target\": 1}, \"type\": \"Feature\"}, {\"geometry\": {\"coordinates\": [4.776666000017332, 50.65919999629865], \"type\": \"Point\"}, \"id\": \"87\", \"properties\": {\"target\": 4}, \"type\": \"Feature\"}, {\"geometry\": {\"coordinates\": [4.83168218394432, 50.93184707484333], \"type\": \"Point\"}, \"id\": \"131\", \"properties\": {\"target\": 4}, \"type\": \"Feature\"}, {\"geometry\": {\"coordinates\": [5.308982000016332, 51.0063099963754], \"type\": \"Point\"}, \"id\": \"183\", \"properties\": {\"target\": 2}, \"type\": \"Feature\"}, {\"geometry\": {\"coordinates\": [5.29975900001507, 50.24948999620225], \"type\": \"Point\"}, \"id\": \"166\", \"properties\": {\"target\": 4}, \"type\": \"Feature\"}, {\"geometry\": {\"coordinates\": [5.383745893870159, 51.11737876148348], \"type\": \"Point\"}, \"id\": \"187\", \"properties\": {\"target\": 1}, \"type\": \"Feature\"}, {\"geometry\": {\"coordinates\": [4.863279000017045, 50.64506999629531], \"type\": \"Point\"}, \"id\": \"86\", \"properties\": {\"target\": 1}, \"type\": \"Feature\"}, {\"geometry\": {\"coordinates\": [4.936345000017035, 50.75641999632043], \"type\": \"Point\"}, \"id\": \"95\", \"properties\": {\"target\": 1}, \"type\": \"Feature\"}, {\"geometry\": {\"coordinates\": [4.923689112043666, 50.34147917221155], \"type\": \"Point\"}, \"id\": \"68\", \"properties\": {\"target\": 4}, \"type\": \"Feature\"}, {\"geometry\": {\"coordinates\": [4.543544000017633, 50.468169996255185], \"type\": \"Point\"}, \"id\": \"42\", \"properties\": {\"target\": 1}, \"type\": \"Feature\"}, {\"geometry\": {\"coordinates\": [5.37317487160434, 50.3605237850458], \"type\": \"Point\"}, \"id\": \"169\", \"properties\": {\"target\": 1}, \"type\": \"Feature\"}, {\"geometry\": {\"coordinates\": [4.848984000016851, 50.51827999626614], \"type\": \"Point\"}, \"id\": \"65\", \"properties\": {\"target\": 1}, \"type\": \"Feature\"}, {\"geometry\": {\"coordinates\": [5.365764192900945, 51.00852565422877], \"type\": \"Point\"}, \"id\": \"186\", \"properties\": {\"target\": 2}, \"type\": \"Feature\"}, {\"geometry\": {\"coordinates\": [4.814819400983489, 50.5708555446297], \"type\": \"Point\"}, \"id\": \"78\", \"properties\": {\"target\": 1}, \"type\": \"Feature\"}, {\"geometry\": {\"coordinates\": [4.813174391740864, 50.84105949089144], \"type\": \"Point\"}, \"id\": \"129\", \"properties\": {\"target\": 1}, \"type\": \"Feature\"}, {\"geometry\": {\"coordinates\": [5.177591000016066, 50.622639996289514], \"type\": \"Point\"}, \"id\": \"111\", \"properties\": {\"target\": 1}, \"type\": \"Feature\"}, {\"geometry\": {\"coordinates\": [5.515062000015567, 50.94243999636086], \"type\": \"Point\"}, \"id\": \"193\", \"properties\": {\"target\": 2}, \"type\": \"Feature\"}, {\"geometry\": {\"coordinates\": [5.2338780000159, 50.62500999628999], \"type\": \"Point\"}, \"id\": \"196\", \"properties\": {\"target\": 1}, \"type\": \"Feature\"}, {\"geometry\": {\"coordinates\": [4.795084905326504, 51.002374726049865], \"type\": \"Point\"}, \"id\": \"125\", \"properties\": {\"target\": 4}, \"type\": \"Feature\"}, {\"geometry\": {\"coordinates\": [5.013470333900862, 50.83189050977748], \"type\": \"Point\"}, \"id\": \"102\", \"properties\": {\"target\": 1}, \"type\": \"Feature\"}, {\"geometry\": {\"coordinates\": [4.454329000017487, 50.26564999620778], \"type\": \"Point\"}, \"id\": \"16\", \"properties\": {\"target\": 1}, \"type\": \"Feature\"}, {\"geometry\": {\"coordinates\": [4.595688000017561, 50.506669996264044], \"type\": \"Point\"}, \"id\": \"47\", \"properties\": {\"target\": 1}, \"type\": \"Feature\"}, {\"geometry\": {\"coordinates\": [5.113568387921682, 50.96216913151553], \"type\": \"Point\"}, \"id\": \"141\", \"properties\": {\"target\": 4}, \"type\": \"Feature\"}, {\"geometry\": {\"coordinates\": [4.5735395454490195, 50.45168294029345], \"type\": \"Point\"}, \"id\": \"44\", \"properties\": {\"target\": 1}, \"type\": \"Feature\"}, {\"geometry\": {\"coordinates\": [5.22676448234596, 50.696786918021594], \"type\": \"Point\"}, \"id\": \"194\", \"properties\": {\"target\": 5}, \"type\": \"Feature\"}, {\"geometry\": {\"coordinates\": [4.8845952770600265, 50.97031690734699], \"type\": \"Point\"}, \"id\": \"132\", \"properties\": {\"target\": 1}, \"type\": \"Feature\"}, {\"geometry\": {\"coordinates\": [5.227509281068453, 50.408629703757015], \"type\": \"Point\"}, \"id\": \"161\", \"properties\": {\"target\": 4}, \"type\": \"Feature\"}, {\"geometry\": {\"coordinates\": [5.155071000016039, 50.567729996276945], \"type\": \"Point\"}, \"id\": \"155\", \"properties\": {\"target\": 1}, \"type\": \"Feature\"}, {\"geometry\": {\"coordinates\": [5.527067070874436, 50.22260615973987], \"type\": \"Point\"}, \"id\": \"177\", \"properties\": {\"target\": 4}, \"type\": \"Feature\"}, {\"geometry\": {\"coordinates\": [5.045787093324852, 50.797204253469936], \"type\": \"Point\"}, \"id\": \"107\", \"properties\": {\"target\": 1}, \"type\": \"Feature\"}, {\"geometry\": {\"coordinates\": [5.056849725411044, 50.9597919503503], \"type\": \"Point\"}, \"id\": \"139\", \"properties\": {\"target\": 1}, \"type\": \"Feature\"}, {\"geometry\": {\"coordinates\": [5.328869717858957, 50.80898029354661], \"type\": \"Point\"}, \"id\": \"202\", \"properties\": {\"target\": 2}, \"type\": \"Feature\"}, {\"geometry\": {\"coordinates\": [5.281402280495744, 50.71696127304115], \"type\": \"Point\"}, \"id\": \"199\", \"properties\": {\"target\": 1}, \"type\": \"Feature\"}, {\"geometry\": {\"coordinates\": [4.407749000018405, 50.65987999629963], \"type\": \"Point\"}, \"id\": \"1\", \"properties\": {\"target\": 1}, \"type\": \"Feature\"}, {\"geometry\": {\"coordinates\": [4.6477956306112596, 50.545141558321745], \"type\": \"Point\"}, \"id\": \"49\", \"properties\": {\"target\": 1}, \"type\": \"Feature\"}, {\"geometry\": {\"coordinates\": [4.70415400001733, 50.54777999627324], \"type\": \"Point\"}, \"id\": \"52\", \"properties\": {\"target\": 1}, \"type\": \"Feature\"}, {\"geometry\": {\"coordinates\": [5.449174000015438, 50.741789996316115], \"type\": \"Point\"}, \"id\": \"208\", \"properties\": {\"target\": 1}, \"type\": \"Feature\"}, {\"geometry\": {\"coordinates\": [4.794569433604081, 50.497827655899926], \"type\": \"Point\"}, \"id\": \"60\", \"properties\": {\"target\": 1}, \"type\": \"Feature\"}, {\"geometry\": {\"coordinates\": [5.2293470000155065, 50.39007999623558], \"type\": \"Point\"}, \"id\": \"162\", \"properties\": {\"target\": 4}, \"type\": \"Feature\"}, {\"geometry\": {\"coordinates\": [4.883624171125297, 50.71800802271193], \"type\": \"Point\"}, \"id\": \"91\", \"properties\": {\"target\": 2}, \"type\": \"Feature\"}, {\"geometry\": {\"coordinates\": [5.1319060000155385, 50.242459996200886], \"type\": \"Point\"}, \"id\": \"153\", \"properties\": {\"target\": 1}, \"type\": \"Feature\"}, {\"geometry\": {\"coordinates\": [4.752694000017329, 50.621949996290226], \"type\": \"Point\"}, \"id\": \"84\", \"properties\": {\"target\": 1}, \"type\": \"Feature\"}, {\"geometry\": {\"coordinates\": [4.742169531935979, 50.964041316287314], \"type\": \"Point\"}, \"id\": \"120\", \"properties\": {\"target\": 2}, \"type\": \"Feature\"}, {\"geometry\": {\"coordinates\": [4.399469161830443, 50.2630657579528], \"type\": \"Point\"}, \"id\": \"10\", \"properties\": {\"target\": 1}, \"type\": \"Feature\"}, {\"geometry\": {\"coordinates\": [5.260238102852807, 50.64407595007945], \"type\": \"Point\"}, \"id\": \"198\", \"properties\": {\"target\": 1}, \"type\": \"Feature\"}, {\"geometry\": {\"coordinates\": [5.2346848832503605, 50.895318636754716], \"type\": \"Point\"}, \"id\": \"178\", \"properties\": {\"target\": 2}, \"type\": \"Feature\"}, {\"geometry\": {\"coordinates\": [4.809091685188892, 50.87679337920994], \"type\": \"Point\"}, \"id\": \"128\", \"properties\": {\"target\": 1}, \"type\": \"Feature\"}, {\"geometry\": {\"coordinates\": [4.778383000016813, 50.3889999962362], \"type\": \"Point\"}, \"id\": \"59\", \"properties\": {\"target\": 1}, \"type\": \"Feature\"}, {\"geometry\": {\"coordinates\": [4.724301000016934, 50.3685199962315], \"type\": \"Point\"}, \"id\": \"53\", \"properties\": {\"target\": 1}, \"type\": \"Feature\"}, {\"geometry\": {\"coordinates\": [5.007856826005763, 50.88558266722583], \"type\": \"Point\"}, \"id\": \"103\", \"properties\": {\"target\": 2}, \"type\": \"Feature\"}, {\"geometry\": {\"coordinates\": [5.5555070000152345, 50.817959996333066], \"type\": \"Point\"}, \"id\": \"212\", \"properties\": {\"target\": 1}, \"type\": \"Feature\"}, {\"geometry\": {\"coordinates\": [4.4599344586720635, 50.69849986376156], \"type\": \"Point\"}, \"id\": \"3\", \"properties\": {\"target\": 2}, \"type\": \"Feature\"}, {\"geometry\": {\"coordinates\": [4.888243687013467, 50.93454099833704], \"type\": \"Point\"}, \"id\": \"133\", \"properties\": {\"target\": 2}, \"type\": \"Feature\"}, {\"geometry\": {\"coordinates\": [4.8496095220934325, 50.7706375902753], \"type\": \"Point\"}, \"id\": \"96\", \"properties\": {\"target\": 1}, \"type\": \"Feature\"}, {\"geometry\": {\"coordinates\": [4.82018500001647, 50.2648299962068], \"type\": \"Point\"}, \"id\": \"63\", \"properties\": {\"target\": 2}, \"type\": \"Feature\"}, {\"geometry\": {\"coordinates\": [5.209659733771575, 50.58799302868443], \"type\": \"Point\"}, \"id\": \"159\", \"properties\": {\"target\": 1}, \"type\": \"Feature\"}, {\"geometry\": {\"coordinates\": [4.443468000017698, 50.35604999622919], \"type\": \"Point\"}, \"id\": \"13\", \"properties\": {\"target\": 2}, \"type\": \"Feature\"}, {\"geometry\": {\"coordinates\": [5.173759000016148, 50.658519996297734], \"type\": \"Point\"}, \"id\": \"112\", \"properties\": {\"target\": 1}, \"type\": \"Feature\"}, {\"geometry\": {\"coordinates\": [4.643086953789038, 50.833122778625885], \"type\": \"Point\"}, \"id\": \"31\", \"properties\": {\"target\": 4}, \"type\": \"Feature\"}, {\"geometry\": {\"coordinates\": [4.560382852850046, 50.81136469085134], \"type\": \"Point\"}, \"id\": \"7\", \"properties\": {\"target\": 4}, \"type\": \"Feature\"}, {\"geometry\": {\"coordinates\": [4.872383919173652, 50.3031294275512], \"type\": \"Point\"}, \"id\": \"66\", \"properties\": {\"target\": 4}, \"type\": \"Feature\"}, {\"geometry\": {\"coordinates\": [4.68916075353518, 51.17768343069535], \"type\": \"Point\"}, \"id\": \"40\", \"properties\": {\"target\": 4}, \"type\": \"Feature\"}, {\"geometry\": {\"coordinates\": [5.488967425312014, 50.32913504483118], \"type\": \"Point\"}, \"id\": \"175\", \"properties\": {\"target\": 2}, \"type\": \"Feature\"}, {\"geometry\": {\"coordinates\": [4.784524181576315, 50.58760640247125], \"type\": \"Point\"}, \"id\": \"81\", \"properties\": {\"target\": 2}, \"type\": \"Feature\"}, {\"geometry\": {\"coordinates\": [4.466817343766036, 50.879066013765225], \"type\": \"Point\"}, \"id\": \"23\", \"properties\": {\"target\": 2}, \"type\": \"Feature\"}, {\"geometry\": {\"coordinates\": [4.74043395819228, 50.98192508933442], \"type\": \"Point\"}, \"id\": \"119\", \"properties\": {\"target\": 2}, \"type\": \"Feature\"}, {\"geometry\": {\"coordinates\": [4.655012131439374, 50.97807000772535], \"type\": \"Point\"}, \"id\": \"35\", \"properties\": {\"target\": 4}, \"type\": \"Feature\"}, {\"geometry\": {\"coordinates\": [5.153050152333209, 50.58565202585743], \"type\": \"Point\"}, \"id\": \"154\", \"properties\": {\"target\": 1}, \"type\": \"Feature\"}, {\"geometry\": {\"coordinates\": [5.583333225164757, 51.1251960980202], \"type\": \"Point\"}, \"id\": \"220\", \"properties\": {\"target\": 2}, \"type\": \"Feature\"}, {\"geometry\": {\"coordinates\": [5.529648000015765, 51.08705999639265], \"type\": \"Point\"}, \"id\": \"217\", \"properties\": {\"target\": 1}, \"type\": \"Feature\"}, {\"geometry\": {\"coordinates\": [5.360481000016272, 51.062419996387554], \"type\": \"Point\"}, \"id\": \"185\", \"properties\": {\"target\": 2}, \"type\": \"Feature\"}, {\"geometry\": {\"coordinates\": [5.1877895043456155, 50.24492586293439], \"type\": \"Point\"}, \"id\": \"157\", \"properties\": {\"target\": 1}, \"type\": \"Feature\"}, {\"geometry\": {\"coordinates\": [4.4872373698420205, 50.46554329790663], \"type\": \"Point\"}, \"id\": \"19\", \"properties\": {\"target\": 1}, \"type\": \"Feature\"}, {\"geometry\": {\"coordinates\": [4.867252000016972, 50.60921999628711], \"type\": \"Point\"}, \"id\": \"83\", \"properties\": {\"target\": 1}, \"type\": \"Feature\"}, {\"geometry\": {\"coordinates\": [4.857480857391053, 50.698875449536914], \"type\": \"Point\"}, \"id\": \"90\", \"properties\": {\"target\": 5}, \"type\": \"Feature\"}, {\"geometry\": {\"coordinates\": [5.472254000015457, 50.79670999632844], \"type\": \"Point\"}, \"id\": \"210\", \"properties\": {\"target\": 1}, \"type\": \"Feature\"}, {\"geometry\": {\"coordinates\": [5.230231000015973, 50.66087999629819], \"type\": \"Point\"}, \"id\": \"195\", \"properties\": {\"target\": 1}, \"type\": \"Feature\"}, {\"geometry\": {\"coordinates\": [4.988444487291608, 50.27219420235836], \"type\": \"Point\"}, \"id\": \"72\", \"properties\": {\"target\": 4}, \"type\": \"Feature\"}, {\"geometry\": {\"coordinates\": [5.026927000016668, 50.70631999630891], \"type\": \"Point\"}, \"id\": \"101\", \"properties\": {\"target\": 1}, \"type\": \"Feature\"}, {\"geometry\": {\"coordinates\": [4.669463157275686, 50.852461750119815], \"type\": \"Point\"}, \"id\": \"37\", \"properties\": {\"target\": 4}, \"type\": \"Feature\"}, {\"geometry\": {\"coordinates\": [4.790931945636508, 51.03811952134022], \"type\": \"Point\"}, \"id\": \"124\", \"properties\": {\"target\": 1}, \"type\": \"Feature\"}, {\"geometry\": {\"coordinates\": [5.064467000016886, 50.88806999634969], \"type\": \"Point\"}, \"id\": \"109\", \"properties\": {\"target\": 1}, \"type\": \"Feature\"}, {\"geometry\": {\"coordinates\": [4.803503443946757, 51.18288527248895], \"type\": \"Point\"}, \"id\": \"127\", \"properties\": {\"target\": 4}, \"type\": \"Feature\"}, {\"geometry\": {\"coordinates\": [5.4687625453123925, 50.832604945607535], \"type\": \"Point\"}, \"id\": \"209\", \"properties\": {\"target\": 1}, \"type\": \"Feature\"}, {\"geometry\": {\"coordinates\": [4.998149554072708, 50.975325120257764], \"type\": \"Point\"}, \"id\": \"137\", \"properties\": {\"target\": 1}, \"type\": \"Feature\"}, {\"geometry\": {\"coordinates\": [4.4886032173154735, 50.21295641153927], \"type\": \"Point\"}, \"id\": \"20\", \"properties\": {\"target\": 1}, \"type\": \"Feature\"}, {\"geometry\": {\"coordinates\": [5.077649407011518, 51.03267919176775], \"type\": \"Point\"}, \"id\": \"140\", \"properties\": {\"target\": 4}, \"type\": \"Feature\"}, {\"geometry\": {\"coordinates\": [4.818753564812162, 50.53499686568438], \"type\": \"Point\"}, \"id\": \"62\", \"properties\": {\"target\": 1}, \"type\": \"Feature\"}, {\"geometry\": {\"coordinates\": [5.179833000016506, 50.8748999963465], \"type\": \"Point\"}, \"id\": \"116\", \"properties\": {\"target\": 2}, \"type\": \"Feature\"}, {\"geometry\": {\"coordinates\": [4.523664140579645, 50.88165369671742], \"type\": \"Point\"}, \"id\": \"26\", \"properties\": {\"target\": 1}, \"type\": \"Feature\"}, {\"geometry\": {\"coordinates\": [4.744355000017011, 50.441489996248556], \"type\": \"Point\"}, \"id\": \"54\", \"properties\": {\"target\": 1}, \"type\": \"Feature\"}, {\"geometry\": {\"coordinates\": [5.115214799550751, 50.40389088072042], \"type\": \"Point\"}, \"id\": \"151\", \"properties\": {\"target\": 1}, \"type\": \"Feature\"}, {\"geometry\": {\"coordinates\": [4.975847606799105, 50.39794897024151], \"type\": \"Point\"}, \"id\": \"71\", \"properties\": {\"target\": 2}, \"type\": \"Feature\"}, {\"geometry\": {\"coordinates\": [4.602432000018394, 50.93946999636206], \"type\": \"Point\"}, \"id\": \"29\", \"properties\": {\"target\": 1}, \"type\": \"Feature\"}, {\"geometry\": {\"coordinates\": [5.504216515854877, 50.761959608852735], \"type\": \"Point\"}, \"id\": \"211\", \"properties\": {\"target\": 4}, \"type\": \"Feature\"}, {\"geometry\": {\"coordinates\": [5.399584909222584, 50.95601601555815], \"type\": \"Point\"}, \"id\": \"188\", \"properties\": {\"target\": 2}, \"type\": \"Feature\"}, {\"geometry\": {\"coordinates\": [4.592303293813307, 50.29026493379514], \"type\": \"Point\"}, \"id\": \"46\", \"properties\": {\"target\": 2}, \"type\": \"Feature\"}, {\"geometry\": {\"coordinates\": [4.734056006760561, 51.035590236036086], \"type\": \"Point\"}, \"id\": \"118\", \"properties\": {\"target\": 2}, \"type\": \"Feature\"}, {\"geometry\": {\"coordinates\": [5.111712753481107, 50.70986630846665], \"type\": \"Point\"}, \"id\": \"110\", \"properties\": {\"target\": 5}, \"type\": \"Feature\"}, {\"geometry\": {\"coordinates\": [5.242889000016696, 51.093669996394624], \"type\": \"Point\"}, \"id\": \"179\", \"properties\": {\"target\": 4}, \"type\": \"Feature\"}, {\"geometry\": {\"coordinates\": [5.236527862052969, 50.31891474189885], \"type\": \"Point\"}, \"id\": \"163\", \"properties\": {\"target\": 1}, \"type\": \"Feature\"}, {\"geometry\": {\"coordinates\": [5.422653000015493, 50.722729996311884], \"type\": \"Point\"}, \"id\": \"205\", \"properties\": {\"target\": 1}, \"type\": \"Feature\"}, {\"geometry\": {\"coordinates\": [4.432676709207567, 50.21047885955579], \"type\": \"Point\"}, \"id\": \"12\", \"properties\": {\"target\": 4}, \"type\": \"Feature\"}], \"type\": \"FeatureCollection\"}}, \"process_id\": \"fit_class_random_forest\"}, \"loadcollection1\": {\"arguments\": {\"bands\": [\"B03\", \"B04\", \"B05\", \"B06\", \"B07\", \"B08\", \"B11\", \"B12\", \"SCL\"], \"id\": \"SENTINEL2_L2A\", \"properties\": {\"eo:cloud_cover\": {\"process_graph\": {\"lte1\": {\"arguments\": {\"x\": {\"from_parameter\": \"value\"}, \"y\": 80}, \"process_id\": \"lte\", \"result\": true}}}}, \"spatial_extent\": null, \"temporal_extent\": [\"2018-03-01\", \"2018-10-31\"]}, \"process_id\": \"load_collection\"}, \"loadcollection2\": {\"arguments\": {\"bands\": [\"VH\", \"VV\"], \"id\": \"S1_GRD_SIGMA0_ASCENDING\", \"properties\": {\"orbitDirection\": {\"process_graph\": {\"eq1\": {\"arguments\": {\"x\": {\"from_parameter\": \"value\"}, \"y\": \"ASCENDING\"}, \"process_id\": \"eq\", \"result\": true}}}}, \"spatial_extent\": null, \"temporal_extent\": [\"2018-03-01\", \"2018-10-31\"]}, \"process_id\": \"load_collection\"}, \"maskscldilation1\": {\"arguments\": {\"data\": {\"from_node\": \"loadcollection1\"}, \"scl_band_name\": \"SCL\"}, \"process_id\": \"mask_scl_dilation\"}, \"mergecubes1\": {\"arguments\": {\"cube1\": {\"from_node\": \"renamelabels2\"}, \"cube2\": {\"from_node\": \"renamelabels4\"}}, \"process_id\": \"merge_cubes\"}, \"renamelabels1\": {\"arguments\": {\"data\": {\"from_node\": \"applydimension1\"}, \"dimension\": \"bands\", \"target\": [\"B03\", \"B04\", \"B05\", \"B06\", \"B07\", \"B08\", \"B11\", \"B12\", \"NDVI\", \"NDMI\", \"NDGI\", \"NDRE1\", \"NDRE2\", \"NDRE5\", \"ANIR\"]}, \"process_id\": \"rename_labels\"}, \"renamelabels2\": {\"arguments\": {\"data\": {\"from_node\": \"applydimension3\"}, \"dimension\": \"bands\", \"target\": [\"B06_p25\", \"B06_p50\", \"B06_p75\", \"B06_sd\", \"B06_t2\", \"B06_t6\", \"B06_t10\", \"B06_t14\", \"B06_t18\", \"B06_t22\", \"B12_p25\", \"B12_p50\", \"B12_p75\", \"B12_sd\", \"B12_t2\", \"B12_t6\", \"B12_t10\", \"B12_t14\", \"B12_t18\", \"B12_t22\", \"NDVI_p25\", \"NDVI_p50\", \"NDVI_p75\", \"NDVI_sd\", \"NDVI_t2\", \"NDVI_t6\", \"NDVI_t10\", \"NDVI_t14\", \"NDVI_t18\", \"NDVI_t22\", \"NDMI_p25\", \"NDMI_p50\", \"NDMI_p75\", \"NDMI_sd\", \"NDMI_t2\", \"NDMI_t6\", \"NDMI_t10\", \"NDMI_t14\", \"NDMI_t18\", \"NDMI_t22\", \"NDGI_p25\", \"NDGI_p50\", \"NDGI_p75\", \"NDGI_sd\", \"NDGI_t2\", \"NDGI_t6\", \"NDGI_t10\", \"NDGI_t14\", \"NDGI_t18\", \"NDGI_t22\", \"NDRE1_p25\", \"NDRE1_p50\", \"NDRE1_p75\", \"NDRE1_sd\", \"NDRE1_t2\", \"NDRE1_t6\", \"NDRE1_t10\", \"NDRE1_t14\", \"NDRE1_t18\", \"NDRE1_t22\", \"NDRE2_p25\", \"NDRE2_p50\", \"NDRE2_p75\", \"NDRE2_sd\", \"NDRE2_t2\", \"NDRE2_t6\", \"NDRE2_t10\", \"NDRE2_t14\", \"NDRE2_t18\", \"NDRE2_t22\", \"NDRE5_p25\", \"NDRE5_p50\", \"NDRE5_p75\", \"NDRE5_sd\", \"NDRE5_t2\", \"NDRE5_t6\", \"NDRE5_t10\", \"NDRE5_t14\", \"NDRE5_t18\", \"NDRE5_t22\", \"ANIR_p25\", \"ANIR_p50\", \"ANIR_p75\", \"ANIR_sd\", \"ANIR_t2\", \"ANIR_t6\", \"ANIR_t10\", \"ANIR_t14\", \"ANIR_t18\", \"ANIR_t22\"]}, \"process_id\": \"rename_labels\"}, \"renamelabels3\": {\"arguments\": {\"data\": {\"from_node\": \"applydimension4\"}, \"dimension\": \"bands\", \"target\": [\"ratio\", \"VH\", \"VV\"]}, \"process_id\": \"rename_labels\"}, \"renamelabels4\": {\"arguments\": {\"data\": {\"from_node\": \"applydimension6\"}, \"dimension\": \"bands\", \"target\": [\"ratio_p25\", \"ratio_p50\", \"ratio_p75\", \"ratio_sd\", \"ratio_t2\", \"ratio_t5\", \"ratio_t8\", \"ratio_t11\", \"ratio_t14\", \"ratio_t17\", \"VH_p25\", \"VH_p50\", \"VH_p75\", \"VH_sd\", \"VH_t2\", \"VH_t5\", \"VH_t8\", \"VH_t11\", \"VH_t14\", \"VH_t17\", \"VV_p25\", \"VV_p50\", \"VV_p75\", \"VV_sd\", \"VV_t2\", \"VV_t5\", \"VV_t8\", \"VV_t11\", \"VV_t14\", \"VV_t17\"]}, \"process_id\": \"rename_labels\"}, \"resamplecubespatial1\": {\"arguments\": {\"data\": {\"from_node\": \"applydimension5\"}, \"method\": \"near\", \"target\": {\"from_node\": \"applydimension2\"}}, \"process_id\": \"resample_cube_spatial\"}, \"savemlmodel1\": {\"arguments\": {\"data\": {\"from_node\": \"fitclassrandomforest1\"}, \"options\": {}}, \"process_id\": \"save_ml_model\", \"result\": true}}}, \"status\": \"finished\", \"updated\": \"2022-09-02T17:50:29Z\", \"usage\": {\"cpu\": {\"unit\": \"cpu-seconds\", \"value\": 187245}, \"duration\": {\"unit\": \"seconds\", \"value\": 1285}, \"memory\": {\"unit\": \"mb-seconds\", \"value\": 476380284}}}}</script>\n",
       "    </openeo-job>\n",
       "    "
      ],
      "text/plain": [
       "<RESTJob job_id='j-447225d3eff64c4a85deb43e81b0dac0'>"
      ]
     },
     "execution_count": 38,
     "metadata": {},
     "output_type": "execute_result"
    }
   ],
   "source": [
    "training_job = model.create_job()\n",
    "training_job.start_and_wait()"
   ]
  },
  {
   "cell_type": "code",
   "execution_count": 16,
   "id": "e5d016c0",
   "metadata": {},
   "outputs": [
    {
     "data": {
      "text/plain": [
       "[PosixPath('/data/users/Public/driesj/openeo/sample-notebooks/randomforest.model.tar.gz'),\n",
       " PosixPath('/data/users/Public/driesj/openeo/sample-notebooks/job-results.json')]"
      ]
     },
     "execution_count": 16,
     "metadata": {},
     "output_type": "execute_result"
    }
   ],
   "source": [
    "r.download_files()"
   ]
  },
  {
   "cell_type": "code",
   "execution_count": 41,
   "id": "674df5e9",
   "metadata": {},
   "outputs": [],
   "source": [
    "training_job = c.job(\"j-447225d3eff64c4a85deb43e81b0dac0\")"
   ]
  },
  {
   "cell_type": "markdown",
   "id": "b2eb04ae",
   "metadata": {},
   "source": [
    "Subsequently, we can calculate a number of validation metrics from our test set. To do so, we do inference for the points of our y-test set and write these predictions out to a netCDF. The function `calculate_validation_metrics` (not part of openEO itself, but simply a client-side helper function) then loads in the y-test geojson and the netCDF with predicted values, extracts the points and stores the predicted values alongside their actual target labels in a dataframe."
   ]
  },
  {
   "cell_type": "code",
   "execution_count": 42,
   "id": "d461f58e",
   "metadata": {},
   "outputs": [
    {
     "name": "stdout",
     "output_type": "stream",
     "text": [
      "0:00:00 Job 'j-b8551908db3b46baa162b4a37dd3713e': send 'start'\n",
      "0:02:05 Job 'j-b8551908db3b46baa162b4a37dd3713e': queued (progress N/A)\n",
      "0:02:10 Job 'j-b8551908db3b46baa162b4a37dd3713e': queued (progress N/A)\n",
      "0:02:17 Job 'j-b8551908db3b46baa162b4a37dd3713e': queued (progress N/A)\n",
      "0:02:25 Job 'j-b8551908db3b46baa162b4a37dd3713e': queued (progress N/A)\n",
      "0:02:36 Job 'j-b8551908db3b46baa162b4a37dd3713e': queued (progress N/A)\n",
      "0:02:48 Job 'j-b8551908db3b46baa162b4a37dd3713e': queued (progress N/A)\n",
      "0:03:04 Job 'j-b8551908db3b46baa162b4a37dd3713e': running (progress N/A)\n",
      "0:03:24 Job 'j-b8551908db3b46baa162b4a37dd3713e': running (progress N/A)\n",
      "0:03:48 Job 'j-b8551908db3b46baa162b4a37dd3713e': running (progress N/A)\n",
      "0:04:18 Job 'j-b8551908db3b46baa162b4a37dd3713e': running (progress N/A)\n",
      "0:04:56 Job 'j-b8551908db3b46baa162b4a37dd3713e': running (progress N/A)\n",
      "0:05:43 Job 'j-b8551908db3b46baa162b4a37dd3713e': running (progress N/A)\n",
      "0:06:42 Job 'j-b8551908db3b46baa162b4a37dd3713e': running (progress N/A)\n",
      "0:07:42 Job 'j-b8551908db3b46baa162b4a37dd3713e': running (progress N/A)\n",
      "0:08:43 Job 'j-b8551908db3b46baa162b4a37dd3713e': running (progress N/A)\n",
      "0:09:43 Job 'j-b8551908db3b46baa162b4a37dd3713e': running (progress N/A)\n",
      "0:10:44 Job 'j-b8551908db3b46baa162b4a37dd3713e': running (progress N/A)\n",
      "0:11:45 Job 'j-b8551908db3b46baa162b4a37dd3713e': running (progress N/A)\n",
      "0:12:45 Job 'j-b8551908db3b46baa162b4a37dd3713e': running (progress N/A)\n",
      "0:13:46 Job 'j-b8551908db3b46baa162b4a37dd3713e': running (progress N/A)\n",
      "0:14:46 Job 'j-b8551908db3b46baa162b4a37dd3713e': running (progress N/A)\n",
      "0:15:47 Job 'j-b8551908db3b46baa162b4a37dd3713e': finished (progress N/A)\n"
     ]
    },
    {
     "data": {
      "text/plain": [
       "[PosixPath('/home/jovyan/work/results/testarea/validation/timeseries.csv'),\n",
       " PosixPath('/home/jovyan/work/results/testarea/validation/job-results.json')]"
      ]
     },
     "execution_count": 42,
     "metadata": {},
     "output_type": "execute_result"
    }
   ],
   "source": [
    "base_path = Path.cwd() / \"results\" / \"testarea\"\n",
    "validation_path = base_path / \"validation\"\n",
    "validation_path.mkdir(parents=True,exist_ok=True)\n",
    "\n",
    "y_test.to_file(filename=str(validation_path / 'y_test.geojson'),driver=\"GeoJSON\")\n",
    "cube = features\n",
    "predicted = cube.predict_random_forest(model=training_job, dimension=\"bands\").linear_scale_range(0,255,0,255).aggregate_spatial(json.loads(y_test.to_json()), reducer=\"mean\")#\"https://github.com/openEOPlatform/sample-notebooks/raw/main/resources/landcover/model_item.json\"\n",
    "test_job = predicted.execute_batch(out_format=\"CSV\")\n",
    "test_job.get_results().download_files(str(validation_path))\n",
    "\n"
   ]
  },
  {
   "cell_type": "code",
   "execution_count": 43,
   "id": "2671f2cf",
   "metadata": {},
   "outputs": [
    {
     "data": {
      "text/plain": [
       "<sklearn.metrics._plot.confusion_matrix.ConfusionMatrixDisplay at 0x7ff8e40bed30>"
      ]
     },
     "execution_count": 43,
     "metadata": {},
     "output_type": "execute_result"
    },
    {
     "data": {
      "image/png": "[encoded data removed]",
      "text/plain": [
       "<Figure size 432x288 with 2 Axes>"
      ]
     },
     "metadata": {
      "needs_background": "light"
     },
     "output_type": "display_data"
    }
   ],
   "source": [
    "df= pd.read_csv(validation_path / \"timeseries.csv\")\n",
    "df.index = df.feature_index\n",
    "df=df.sort_index()\n",
    "df.columns = [\"feature_index\",\"predicted\"]\n",
    "\n",
    "gdf = gpd.read_file(validation_path / 'y_test.geojson')\n",
    "gdf['predicted'] = df.predicted.astype(int)\n",
    "\n",
    "ConfusionMatrixDisplay.from_predictions(gdf[\"target\"],gdf[\"predicted\"])\n"
   ]
  },
  {
   "cell_type": "code",
   "execution_count": 44,
   "id": "52b9847b-b6b2-4b29-ad45-a5499f884872",
   "metadata": {},
   "outputs": [
    {
     "data": {
      "text/plain": [
       "0.8571428571428571"
      ]
     },
     "execution_count": 44,
     "metadata": {},
     "output_type": "execute_result"
    }
   ],
   "source": [
    "accuracy_score(gdf[\"target\"],gdf[\"predicted\"])"
   ]
  },
  {
   "cell_type": "markdown",
   "id": "452e5b5c",
   "metadata": {},
   "source": [
    "After inspecting the metrics and possibly further finetuning the model or dataset, we can do inference on an area of choice and write the result out to a netCDF or GTiff. Happy mapping!"
   ]
  },
  {
   "cell_type": "code",
   "execution_count": 45,
   "id": "37164a78",
   "metadata": {},
   "outputs": [
    {
     "name": "stdout",
     "output_type": "stream",
     "text": [
      "0:00:00 Job 'vito-j-f389f2a62fc64a5ca289f4fde6676a54': send 'start'\n",
      "0:00:53 Job 'vito-j-f389f2a62fc64a5ca289f4fde6676a54': queued (progress N/A)\n",
      "0:01:00 Job 'vito-j-f389f2a62fc64a5ca289f4fde6676a54': queued (progress N/A)\n",
      "0:01:07 Job 'vito-j-f389f2a62fc64a5ca289f4fde6676a54': queued (progress N/A)\n",
      "0:01:16 Job 'vito-j-f389f2a62fc64a5ca289f4fde6676a54': queued (progress N/A)\n",
      "0:01:27 Job 'vito-j-f389f2a62fc64a5ca289f4fde6676a54': queued (progress N/A)\n",
      "0:01:40 Job 'vito-j-f389f2a62fc64a5ca289f4fde6676a54': running (progress N/A)\n",
      "0:01:57 Job 'vito-j-f389f2a62fc64a5ca289f4fde6676a54': running (progress N/A)\n",
      "0:02:17 Job 'vito-j-f389f2a62fc64a5ca289f4fde6676a54': running (progress N/A)\n",
      "0:02:41 Job 'vito-j-f389f2a62fc64a5ca289f4fde6676a54': running (progress N/A)\n",
      "0:03:12 Job 'vito-j-f389f2a62fc64a5ca289f4fde6676a54': running (progress N/A)\n",
      "0:03:51 Job 'vito-j-f389f2a62fc64a5ca289f4fde6676a54': running (progress N/A)\n",
      "0:04:40 Job 'vito-j-f389f2a62fc64a5ca289f4fde6676a54': running (progress N/A)\n",
      "0:05:40 Job 'vito-j-f389f2a62fc64a5ca289f4fde6676a54': running (progress N/A)\n",
      "0:06:41 Job 'vito-j-f389f2a62fc64a5ca289f4fde6676a54': running (progress N/A)\n",
      "0:07:42 Job 'vito-j-f389f2a62fc64a5ca289f4fde6676a54': running (progress N/A)\n",
      "0:08:43 Job 'vito-j-f389f2a62fc64a5ca289f4fde6676a54': running (progress N/A)\n",
      "0:09:44 Job 'vito-j-f389f2a62fc64a5ca289f4fde6676a54': running (progress N/A)\n",
      "0:10:46 Job 'vito-j-f389f2a62fc64a5ca289f4fde6676a54': finished (progress N/A)\n"
     ]
    },
    {
     "data": {
      "text/plain": [
       "[PosixPath('/home/jovyan/work/results/testarea/prediction/openEO.tif'),\n",
       " PosixPath('/home/jovyan/work/results/testarea/prediction/job-results.json')]"
      ]
     },
     "execution_count": 45,
     "metadata": {},
     "output_type": "execute_result"
    }
   ],
   "source": [
    "features, feature_list = load_lc_features(\"terrascope\", \"both\", datetime.date(2018, 3, 1), datetime.date(2018, 10, 31), processing_opts=dict(tile_size=256))\n",
    "\n",
    "cube = features.filter_bbox({\n",
    "    'west':5.1,'east':5.2,'south':50.7,'north':50.8\n",
    "})\n",
    "predicted = cube.predict_random_forest(\n",
    "    model=training_job,\n",
    "    dimension=\"bands\"\n",
    ").linear_scale_range(0,255,0,255)\n",
    "inf_job = predicted.execute_batch(out_format=\"GTiff\")\n",
    "inf_job.get_results().download_files(str(base_path / \"prediction\"))"
   ]
  },
  {
   "cell_type": "markdown",
   "id": "460c793b",
   "metadata": {},
   "source": [
    "![tile31UFS](https://user-images.githubusercontent.com/10434651/162389189-f20d8b4d-6509-4965-bf13-60590438d75c.png)"
   ]
  }
 ],
 "metadata": {
  "kernelspec": {
   "display_name": "openEO Python Client",
   "language": "python",
   "name": "python3"
  },
  "language_info": {
   "codemirror_mode": {
    "name": "ipython",
    "version": 3
   },
   "file_extension": ".py",
   "mimetype": "text/x-python",
   "name": "python",
   "nbconvert_exporter": "python",
   "pygments_lexer": "ipython3",
   "version": "3.9.6"
  }
 },
 "nbformat": 4,
 "nbformat_minor": 5
}
